{
 "cells": [
  {
   "cell_type": "markdown",
   "metadata": {
    "id": "7kxn7RYmSt1w"
   },
   "source": [
    "#Install Tensorflow 2.3"
   ]
  },
  {
   "cell_type": "code",
   "execution_count": 1,
   "metadata": {
    "colab": {
     "base_uri": "https://localhost:8080/",
     "height": 102
    },
    "id": "CYqDOEpgS0Ty",
    "outputId": "2ed84626-00f9-44a9-d324-6768d5eb4268"
   },
   "outputs": [
    {
     "name": "stdout",
     "output_type": "stream",
     "text": [
      "GPU Available:  [PhysicalDevice(name='/physical_device:GPU:0', device_type='GPU')]\n",
      "Tensorflow Version:  2.3.0\n"
     ]
    }
   ],
   "source": [
    "from __future__ import absolute_import, division, print_function, unicode_literals\n",
    "\n",
    "#!pip install -q tensorflow==2.3\n",
    "import tensorflow as tf\n",
    "config = tf.compat.v1.ConfigProto(gpu_options = \n",
    "                         tf.compat.v1.GPUOptions(per_process_gpu_memory_fraction=0.8)\n",
    "# device_count = {'GPU': 1}\n",
    ")\n",
    "config.gpu_options.allow_growth = True\n",
    "session = tf.compat.v1.Session(config=config)\n",
    "tf.compat.v1.keras.backend.set_session(session)\n",
    "\n",
    "print(\"GPU Available: \", tf.config.list_physical_devices('GPU'))\n",
    "\n",
    "print(\"Tensorflow Version: \", tf.__version__)"
   ]
  },
  {
   "cell_type": "markdown",
   "metadata": {
    "id": "5zzkYfzhVkCM"
   },
   "source": [
    "If italicized text the GPU is not available, open Runtime -> Change runtime type and make sure that GPU is selected. Sometimes the GPU is still not available, you need to open Runtime -> reset all runtimes, then try again"
   ]
  },
  {
   "cell_type": "code",
   "execution_count": 2,
   "metadata": {
    "colab": {
     "base_uri": "https://localhost:8080/",
     "height": 34
    },
    "id": "dVzVZRuKTIuE",
    "outputId": "a34bc3e8-1a80-4d23-e778-e33365ce9b9c"
   },
   "outputs": [
    {
     "name": "stdout",
     "output_type": "stream",
     "text": [
      "Keras Version:  2.4.0\n"
     ]
    }
   ],
   "source": [
    "print(\"Keras Version: \", tf.keras.__version__)"
   ]
  },
  {
   "cell_type": "code",
   "execution_count": 3,
   "metadata": {
    "id": "Tsi1o5O6Voj4"
   },
   "outputs": [],
   "source": [
    "import os\n",
    "import numpy as np\n",
    "import matplotlib.pyplot as plt\n",
    "import pandas as pd"
   ]
  },
  {
   "cell_type": "markdown",
   "metadata": {
    "id": "R2eFcNhxTNhK"
   },
   "source": [
    "#Load Data "
   ]
  },
  {
   "cell_type": "code",
   "execution_count": 4,
   "metadata": {
    "colab": {
     "base_uri": "https://localhost:8080/",
     "height": 122
    },
    "id": "0V0rg5XlTStg",
    "outputId": "2b9ee9c3-4d42-4907-f651-30cde7eba4cf"
   },
   "outputs": [],
   "source": [
    "#Mounting local folder\n",
    "#from google.colab import drive\n",
    "#drive.mount('/content/drive/')\n"
   ]
  },
  {
   "cell_type": "code",
   "execution_count": 5,
   "metadata": {
    "colab": {
     "base_uri": "https://localhost:8080/",
     "height": 34
    },
    "id": "pcfl14JyHR73",
    "outputId": "cab45262-c743-4836-a742-666d26f623b8"
   },
   "outputs": [
    {
     "name": "stdout",
     "output_type": "stream",
     "text": [
      "D:\\School\\CMPE295B\\TestNote\\dataset\\shapes\n"
     ]
    }
   ],
   "source": [
    "#Setting the working directory\n",
    "base_dir = 'D:\\School\\CMPE295B\\TestNote\\dataset\\shapes'\n",
    "print(base_dir)"
   ]
  },
  {
   "cell_type": "markdown",
   "metadata": {
    "id": "0PB7yHGgWQGi"
   },
   "source": [
    "Use ImageDataGenerator to rescale the images: https://keras.io/preprocessing/image/\n",
    "\n",
    "Create the train generator and specify where the train dataset directory, image size, batch size.\n",
    "\n",
    "Create the validation generator with similar approach as the train generator with the flow_from_directory() method."
   ]
  },
  {
   "cell_type": "code",
   "execution_count": 6,
   "metadata": {
    "colab": {
     "base_uri": "https://localhost:8080/",
     "height": 51
    },
    "id": "VgXrrCDmWvTS",
    "outputId": "bf0fff50-f265-4fd3-9d4d-af8945a7b5d9"
   },
   "outputs": [
    {
     "name": "stdout",
     "output_type": "stream",
     "text": [
      "Found 11976 images belonging to 4 classes.\n",
      "Found 2994 images belonging to 4 classes.\n"
     ]
    }
   ],
   "source": [
    "IMAGE_SIZE = 224\n",
    "BATCH_SIZE = 64\n",
    "\n",
    "datagen = tf.keras.preprocessing.image.ImageDataGenerator(\n",
    "    rescale=1./255, \n",
    "    validation_split=0.2)\n",
    "\n",
    "train_generator = datagen.flow_from_directory(\n",
    "    base_dir,\n",
    "    target_size=(IMAGE_SIZE, IMAGE_SIZE),\n",
    "    batch_size=BATCH_SIZE, \n",
    "    subset='training')\n",
    "\n",
    "val_generator = datagen.flow_from_directory(\n",
    "    base_dir,\n",
    "    target_size=(IMAGE_SIZE, IMAGE_SIZE),\n",
    "    batch_size=BATCH_SIZE, \n",
    "    subset='validation')"
   ]
  },
  {
   "cell_type": "code",
   "execution_count": 7,
   "metadata": {
    "colab": {
     "base_uri": "https://localhost:8080/",
     "height": 51
    },
    "id": "4ECHCc6oXCon",
    "outputId": "3e354c63-90bc-4ff3-a62c-06cae11f913c"
   },
   "outputs": [
    {
     "name": "stdout",
     "output_type": "stream",
     "text": [
      "Image batch shape:  (64, 224, 224, 3)\n",
      "Label batch shape:  (64, 4)\n"
     ]
    }
   ],
   "source": [
    "image_batch_train, label_batch_train = next(iter(train_generator))\n",
    "print(\"Image batch shape: \", image_batch_train.shape)\n",
    "print(\"Label batch shape: \", label_batch_train.shape)"
   ]
  },
  {
   "cell_type": "code",
   "execution_count": 8,
   "metadata": {
    "colab": {
     "base_uri": "https://localhost:8080/",
     "height": 34
    },
    "id": "rZkOkXCYXMkb",
    "outputId": "dd4c98f0-8485-4085-abc6-cd5c8e36388f"
   },
   "outputs": [
    {
     "name": "stdout",
     "output_type": "stream",
     "text": [
      "{'circle': 0, 'square': 1, 'star': 2, 'triangle': 3}\n"
     ]
    }
   ],
   "source": [
    "print (train_generator.class_indices)"
   ]
  },
  {
   "cell_type": "code",
   "execution_count": 9,
   "metadata": {
    "id": "7dbLe0NLXGXz"
   },
   "outputs": [],
   "source": [
    "# Learn about dataset labels\n",
    "labels = '\\n'.join(sorted(train_generator.class_indices.keys()))\n",
    "\n",
    "with open('labels.txt', 'w') as f:\n",
    "  f.write(labels)"
   ]
  },
  {
   "cell_type": "code",
   "execution_count": 10,
   "metadata": {
    "colab": {
     "base_uri": "https://localhost:8080/",
     "height": 85
    },
    "id": "lawZvFhvXX8i",
    "outputId": "6125fda7-28cc-4a0a-da3c-fbaf0b1f1e8b"
   },
   "outputs": [
    {
     "name": "stdout",
     "output_type": "stream",
     "text": [
      "circle\n",
      "square\n",
      "star\n",
      "triangle\n"
     ]
    }
   ],
   "source": [
    "!type labels.txt"
   ]
  },
  {
   "cell_type": "markdown",
   "metadata": {
    "id": "yfgIlu7Uz9u1"
   },
   "source": [
    "#Create Model 0"
   ]
  },
  {
   "cell_type": "code",
   "execution_count": 11,
   "metadata": {
    "colab": {
     "base_uri": "https://localhost:8080/",
     "height": 34
    },
    "id": "Q6oDnXQUz_6L",
    "outputId": "e3c7516d-a3a9-4100-b8e2-e0267e5c51be"
   },
   "outputs": [],
   "source": [
    "from tensorflow.keras import layers\n",
    "from tensorflow.keras import models\n",
    "from tensorflow.keras import optimizers\n",
    "from keras.callbacks import EarlyStopping\n",
    "\n",
    "model = models.Sequential()\n",
    "model.add(layers.Conv2D(32, (3, 3), activation='relu', input_shape=(IMAGE_SIZE, IMAGE_SIZE, 3)))\n",
    "model.add(layers.MaxPooling2D((2, 2)))\n",
    "model.add(layers.Conv2D(64, (3, 3), activation='relu'))\n",
    "model.add(layers.MaxPooling2D((2, 2)))\n",
    "model.add(layers.Conv2D(128, (3, 3), activation='relu'))\n",
    "model.add(layers.MaxPooling2D((2, 2)))\n",
    "model.add(layers.Conv2D(128, (3, 3), activation='relu'))\n",
    "model.add(layers.MaxPooling2D((2, 2)))\n",
    "model.add(layers.Flatten())\n",
    "model.add(layers.Dense(512, activation='relu'))\n",
    "model.add(layers.Dense(train_generator.num_classes, activation='sigmoid'))\n",
    "\n",
    "model.compile(loss='categorical_crossentropy',\n",
    "              optimizer=optimizers.RMSprop(lr=1e-4),\n",
    "              metrics=['acc'])\n",
    "\n",
    "#Early Stop to prevent over training\n",
    "es = EarlyStopping(monitor='val_loss', mode='min')"
   ]
  },
  {
   "cell_type": "code",
   "execution_count": 12,
   "metadata": {
    "colab": {
     "base_uri": "https://localhost:8080/",
     "height": 357
    },
    "id": "oKoJJiIv0pMF",
    "outputId": "021696d5-d5c3-4ab2-cf4f-b9df89f04514",
    "scrolled": true
   },
   "outputs": [
    {
     "name": "stdout",
     "output_type": "stream",
     "text": [
      "Epoch 1/10\n",
      "100/100 [==============================] - 60s 596ms/step - loss: 0.2917 - acc: 0.8999 - val_loss: 0.0222 - val_acc: 1.0000\n",
      "Epoch 2/10\n",
      "100/100 [==============================] - 26s 258ms/step - loss: 0.0317 - acc: 0.9889 - val_loss: 0.0022 - val_acc: 1.0000\n",
      "Epoch 3/10\n",
      "100/100 [==============================] - 15s 155ms/step - loss: 0.0079 - acc: 0.9977 - val_loss: 1.8936e-04 - val_acc: 1.0000\n",
      "Epoch 4/10\n",
      "100/100 [==============================] - 11s 109ms/step - loss: 0.0122 - acc: 0.9964 - val_loss: 0.0062 - val_acc: 0.9979\n",
      "Epoch 5/10\n",
      "100/100 [==============================] - 9s 91ms/step - loss: 0.0041 - acc: 0.9986 - val_loss: 5.0082e-05 - val_acc: 1.0000\n",
      "Epoch 6/10\n",
      "100/100 [==============================] - 7s 74ms/step - loss: 0.0030 - acc: 0.9991 - val_loss: 8.2567e-06 - val_acc: 1.0000\n",
      "Epoch 7/10\n",
      "100/100 [==============================] - 7s 68ms/step - loss: 5.6854e-04 - acc: 0.9998 - val_loss: 2.8306e-06 - val_acc: 1.0000\n",
      "Epoch 8/10\n",
      "100/100 [==============================] - 6s 61ms/step - loss: 3.3574e-04 - acc: 0.9998 - val_loss: 2.4850e-06 - val_acc: 1.0000\n",
      "Epoch 9/10\n",
      "100/100 [==============================] - 6s 61ms/step - loss: 1.0968e-04 - acc: 1.0000 - val_loss: 7.0670e-07 - val_acc: 1.0000\n",
      "Epoch 10/10\n",
      "100/100 [==============================] - 6s 58ms/step - loss: 0.0013 - acc: 0.9995 - val_loss: 1.5812e-06 - val_acc: 1.0000\n"
     ]
    }
   ],
   "source": [
    "history = model.fit(\n",
    "      train_generator,\n",
    "      steps_per_epoch=100,\n",
    "      epochs=10,\n",
    "      validation_data=val_generator,\n",
    "      validation_steps=30)"
   ]
  },
  {
   "cell_type": "code",
   "execution_count": 13,
   "metadata": {},
   "outputs": [],
   "source": [
    "model.save('mymodel0.h5')"
   ]
  },
  {
   "cell_type": "code",
   "execution_count": 14,
   "metadata": {
    "colab": {
     "base_uri": "https://localhost:8080/",
     "height": 391
    },
    "id": "zQmK63BI2slX",
    "outputId": "2d42113f-d4a1-42e7-d2b7-f3eb8683baf4"
   },
   "outputs": [
    {
     "data": {
      "text/plain": [
       "{'loss': [0.2916644513607025,\n",
       "  0.03171934187412262,\n",
       "  0.007883358746767044,\n",
       "  0.012241838499903679,\n",
       "  0.004109707660973072,\n",
       "  0.0030168145895004272,\n",
       "  0.0005685442592948675,\n",
       "  0.00033574103144928813,\n",
       "  0.00010968247806886211,\n",
       "  0.0013449069811031222],\n",
       " 'acc': [0.8999054431915283,\n",
       "  0.9889062643051147,\n",
       "  0.9976562261581421,\n",
       "  0.9963745474815369,\n",
       "  0.9985937476158142,\n",
       "  0.9990542531013489,\n",
       "  0.9998423457145691,\n",
       "  0.9998437762260437,\n",
       "  1.0,\n",
       "  0.9995312690734863],\n",
       " 'val_loss': [0.02219444513320923,\n",
       "  0.0022025289945304394,\n",
       "  0.0001893634907901287,\n",
       "  0.006183150224387646,\n",
       "  5.0081860536010936e-05,\n",
       "  8.256686669483315e-06,\n",
       "  2.8306253625487443e-06,\n",
       "  2.4849566671036882e-06,\n",
       "  7.066983584991249e-07,\n",
       "  1.5811941693755216e-06],\n",
       " 'val_acc': [1.0, 1.0, 1.0, 0.9979166388511658, 1.0, 1.0, 1.0, 1.0, 1.0, 1.0]}"
      ]
     },
     "execution_count": 14,
     "metadata": {},
     "output_type": "execute_result"
    }
   ],
   "source": [
    "history.history"
   ]
  },
  {
   "cell_type": "code",
   "execution_count": 15,
   "metadata": {
    "colab": {
     "base_uri": "https://localhost:8080/",
     "height": 513
    },
    "id": "y5NkW-Gi2o4d",
    "outputId": "e46a1999-f0e9-4b7c-a424-919336b415af"
   },
   "outputs": [
    {
     "data": {
      "image/png": "[encoded data removed]",
      "text/plain": [
       "<Figure size 576x576 with 2 Axes>"
      ]
     },
     "metadata": {
      "needs_background": "light"
     },
     "output_type": "display_data"
    }
   ],
   "source": [
    "acc = history.history['acc']\n",
    "val_acc = history.history['val_acc']\n",
    "\n",
    "loss = history.history['loss']\n",
    "val_loss = history.history['val_loss']\n",
    "\n",
    "plt.figure(figsize=(8, 8))\n",
    "plt.subplot(2, 1, 1)\n",
    "plt.plot(acc, label='Training Accuracy')\n",
    "plt.plot(val_acc, label='Validation Accuracy')\n",
    "plt.legend(loc='lower right')\n",
    "plt.ylabel('Accuracy')\n",
    "plt.ylim([min(plt.ylim()),1])\n",
    "plt.title('Training and Validation Accuracy')\n",
    "\n",
    "plt.subplot(2, 1, 2)\n",
    "plt.plot(loss, label='Training Loss')\n",
    "plt.plot(val_loss, label='Validation Loss')\n",
    "plt.legend(loc='upper right')\n",
    "plt.ylabel('Cross Entropy')\n",
    "plt.ylim([0,2.0])\n",
    "plt.title('Training and Validation Loss')\n",
    "plt.xlabel('epoch')\n",
    "plt.show()"
   ]
  },
  {
   "cell_type": "markdown",
   "metadata": {
    "id": "H80oDi7ZXcUw"
   },
   "source": [
    "#Create Model 1"
   ]
  },
  {
   "cell_type": "markdown",
   "metadata": {
    "id": "MtzzLAUWXf-H"
   },
   "source": [
    "Create the base model from the MobileNet V2 model developed at Google, and pre-trained on the ImageNet dataset, a large dataset of 1.4M images and 1000 classes of web images.\n",
    "\n",
    "First, pick which intermediate layer of MobileNet V2 will be used for feature extraction. A common practice is to use the output of the very last layer before the flatten operation, the so-called \"bottleneck layer\". The reasoning here is that the following fully-connected layers will be too specialized to the task the network was trained on, and thus the features learned by these layers won't be very useful for a new task. The bottleneck features, however, retain much generality.\n",
    "\n",
    "Let's instantiate an MobileNet V2 model pre-loaded with weights trained on ImageNet. By specifying the include_top=False argument, we load a network that doesn't include the classification layers at the top, which is ideal for feature extraction."
   ]
  },
  {
   "cell_type": "code",
   "execution_count": 16,
   "metadata": {
    "id": "oeCKk6X6Xo3b"
   },
   "outputs": [],
   "source": [
    "IMG_SHAPE = (IMAGE_SIZE, IMAGE_SIZE, 3)\n",
    "\n",
    "# Create the base model from the pre-trained model MobileNet V2\n",
    "base_model = tf.keras.applications.MobileNetV2(input_shape=IMG_SHAPE,\n",
    "                                              include_top=False, \n",
    "                                              weights='imagenet')"
   ]
  },
  {
   "cell_type": "code",
   "execution_count": 17,
   "metadata": {
    "id": "QcKBVfuJXs8h"
   },
   "outputs": [],
   "source": [
    "base_model.trainable = False #freeze the convolutional base created from the previous step and use that as a feature extractor,"
   ]
  },
  {
   "cell_type": "code",
   "execution_count": 18,
   "metadata": {
    "id": "N7QlYhZSXy2P"
   },
   "outputs": [],
   "source": [
    "model = tf.keras.Sequential([\n",
    "  base_model,\n",
    "  tf.keras.layers.Conv2D(32, 3, activation='relu'),\n",
    "  tf.keras.layers.Dropout(0.2),\n",
    "  tf.keras.layers.GlobalAveragePooling2D(),\n",
    "  tf.keras.layers.Dense(4, activation='softmax')\n",
    "])"
   ]
  },
  {
   "cell_type": "code",
   "execution_count": 19,
   "metadata": {
    "id": "M2wOhfmBX5Ka"
   },
   "outputs": [],
   "source": [
    "model.compile(optimizer=tf.keras.optimizers.Adam(), \n",
    "              loss='categorical_crossentropy', \n",
    "              metrics=['accuracy'])"
   ]
  },
  {
   "cell_type": "code",
   "execution_count": 20,
   "metadata": {
    "colab": {
     "base_uri": "https://localhost:8080/",
     "height": 323
    },
    "id": "6eV8wi0OX7qC",
    "outputId": "5d5d3012-3e5f-493d-90bb-c4ec0ee2208a"
   },
   "outputs": [
    {
     "name": "stdout",
     "output_type": "stream",
     "text": [
      "Model: \"sequential_1\"\n",
      "_________________________________________________________________\n",
      "Layer (type)                 Output Shape              Param #   \n",
      "=================================================================\n",
      "mobilenetv2_1.00_224 (Functi (None, 7, 7, 1280)        2257984   \n",
      "_________________________________________________________________\n",
      "conv2d_4 (Conv2D)            (None, 5, 5, 32)          368672    \n",
      "_________________________________________________________________\n",
      "dropout (Dropout)            (None, 5, 5, 32)          0         \n",
      "_________________________________________________________________\n",
      "global_average_pooling2d (Gl (None, 32)                0         \n",
      "_________________________________________________________________\n",
      "dense_2 (Dense)              (None, 4)                 132       \n",
      "=================================================================\n",
      "Total params: 2,626,788\n",
      "Trainable params: 368,804\n",
      "Non-trainable params: 2,257,984\n",
      "_________________________________________________________________\n"
     ]
    }
   ],
   "source": [
    "model.summary()"
   ]
  },
  {
   "cell_type": "code",
   "execution_count": 21,
   "metadata": {
    "colab": {
     "base_uri": "https://localhost:8080/",
     "height": 1000
    },
    "id": "8aECkE0jX-f0",
    "outputId": "f5155843-0004-44b3-d3dc-30e5f7afbb37"
   },
   "outputs": [
    {
     "name": "stdout",
     "output_type": "stream",
     "text": [
      "Epoch 1/50\n",
      "188/188 [==============================] - 11s 59ms/step - loss: 0.0400 - accuracy: 0.9910 - val_loss: 3.2541e-07 - val_accuracy: 1.0000\n",
      "Epoch 2/50\n",
      "188/188 [==============================] - 10s 55ms/step - loss: 1.6278e-06 - accuracy: 1.0000 - val_loss: 2.4092e-07 - val_accuracy: 1.0000\n",
      "Epoch 3/50\n",
      "188/188 [==============================] - 10s 55ms/step - loss: 1.1642e-06 - accuracy: 1.0000 - val_loss: 2.0596e-07 - val_accuracy: 1.0000\n",
      "Epoch 4/50\n",
      "188/188 [==============================] - 10s 55ms/step - loss: 1.1977e-06 - accuracy: 1.0000 - val_loss: 1.7968e-07 - val_accuracy: 1.0000\n",
      "Epoch 5/50\n",
      "188/188 [==============================] - 10s 55ms/step - loss: 1.6830e-06 - accuracy: 1.0000 - val_loss: 2.0893e-07 - val_accuracy: 1.0000\n",
      "Epoch 6/50\n",
      "188/188 [==============================] - 10s 55ms/step - loss: 5.4450e-07 - accuracy: 1.0000 - val_loss: 2.4129e-07 - val_accuracy: 1.0000\n",
      "Epoch 7/50\n",
      "188/188 [==============================] - 10s 54ms/step - loss: 6.0953e-07 - accuracy: 1.0000 - val_loss: 2.9641e-07 - val_accuracy: 1.0000\n",
      "Epoch 8/50\n",
      "188/188 [==============================] - 10s 54ms/step - loss: 4.7527e-07 - accuracy: 1.0000 - val_loss: 3.7119e-07 - val_accuracy: 1.0000\n",
      "Epoch 9/50\n",
      "188/188 [==============================] - 10s 54ms/step - loss: 4.2337e-07 - accuracy: 1.0000 - val_loss: 4.8359e-07 - val_accuracy: 1.0000\n",
      "Epoch 10/50\n",
      "188/188 [==============================] - 10s 54ms/step - loss: 2.6735e-07 - accuracy: 1.0000 - val_loss: 5.6204e-07 - val_accuracy: 1.0000\n",
      "Epoch 11/50\n",
      "188/188 [==============================] - 10s 55ms/step - loss: 1.9756e-07 - accuracy: 1.0000 - val_loss: 6.2970e-07 - val_accuracy: 1.0000\n",
      "Epoch 12/50\n",
      "188/188 [==============================] - 10s 55ms/step - loss: 1.6610e-07 - accuracy: 1.0000 - val_loss: 6.9270e-07 - val_accuracy: 1.0000\n",
      "Epoch 13/50\n",
      "188/188 [==============================] - 10s 54ms/step - loss: 1.5553e-07 - accuracy: 1.0000 - val_loss: 7.4579e-07 - val_accuracy: 1.0000\n",
      "Epoch 14/50\n",
      "188/188 [==============================] - 10s 55ms/step - loss: 1.9225e-07 - accuracy: 1.0000 - val_loss: 8.7168e-07 - val_accuracy: 1.0000\n",
      "Epoch 15/50\n",
      "188/188 [==============================] - 10s 54ms/step - loss: 9.4741e-08 - accuracy: 1.0000 - val_loss: 9.1382e-07 - val_accuracy: 1.0000\n",
      "Epoch 16/50\n",
      "188/188 [==============================] - 10s 54ms/step - loss: 2.9238e-07 - accuracy: 1.0000 - val_loss: 1.2499e-06 - val_accuracy: 1.0000\n",
      "Epoch 17/50\n",
      "188/188 [==============================] - 10s 54ms/step - loss: 8.6121e-08 - accuracy: 1.0000 - val_loss: 1.2922e-06 - val_accuracy: 1.0000\n",
      "Epoch 18/50\n",
      "188/188 [==============================] - 10s 55ms/step - loss: 6.7717e-08 - accuracy: 1.0000 - val_loss: 1.3052e-06 - val_accuracy: 1.0000\n",
      "Epoch 19/50\n",
      "188/188 [==============================] - 10s 54ms/step - loss: 7.8048e-08 - accuracy: 1.0000 - val_loss: 1.3443e-06 - val_accuracy: 1.0000\n",
      "Epoch 20/50\n",
      "188/188 [==============================] - 10s 54ms/step - loss: 8.0526e-08 - accuracy: 1.0000 - val_loss: 1.4593e-06 - val_accuracy: 1.0000\n",
      "Epoch 21/50\n",
      "188/188 [==============================] - 10s 54ms/step - loss: 7.1449e-08 - accuracy: 1.0000 - val_loss: 1.5227e-06 - val_accuracy: 1.0000\n",
      "Epoch 22/50\n",
      "188/188 [==============================] - 10s 54ms/step - loss: 5.7673e-08 - accuracy: 1.0000 - val_loss: 1.5817e-06 - val_accuracy: 1.0000\n",
      "Epoch 23/50\n",
      "188/188 [==============================] - 10s 55ms/step - loss: 1.0602e-07 - accuracy: 1.0000 - val_loss: 1.8344e-06 - val_accuracy: 1.0000\n",
      "Epoch 24/50\n",
      "188/188 [==============================] - 10s 54ms/step - loss: 6.5447e-08 - accuracy: 1.0000 - val_loss: 1.8955e-06 - val_accuracy: 1.0000\n",
      "Epoch 25/50\n",
      "188/188 [==============================] - 10s 54ms/step - loss: 4.9302e-08 - accuracy: 1.0000 - val_loss: 1.9603e-06 - val_accuracy: 1.0000\n",
      "Epoch 26/50\n",
      "188/188 [==============================] - 10s 54ms/step - loss: 8.1482e-08 - accuracy: 1.0000 - val_loss: 2.0392e-06 - val_accuracy: 1.0000\n",
      "Epoch 27/50\n",
      "188/188 [==============================] - 10s 55ms/step - loss: 6.6571e-08 - accuracy: 1.0000 - val_loss: 2.2152e-06 - val_accuracy: 1.0000\n",
      "Epoch 28/50\n",
      "188/188 [==============================] - 10s 55ms/step - loss: 4.2981e-08 - accuracy: 1.0000 - val_loss: 2.2386e-06 - val_accuracy: 1.0000\n",
      "Epoch 29/50\n",
      "188/188 [==============================] - 10s 55ms/step - loss: 1.2578e-07 - accuracy: 1.0000 - val_loss: 2.6436e-06 - val_accuracy: 1.0000\n",
      "Epoch 30/50\n",
      "188/188 [==============================] - 10s 54ms/step - loss: 5.2308e-08 - accuracy: 1.0000 - val_loss: 2.9850e-06 - val_accuracy: 1.0000\n",
      "Epoch 31/50\n",
      "188/188 [==============================] - 10s 54ms/step - loss: 4.0065e-08 - accuracy: 1.0000 - val_loss: 2.9014e-06 - val_accuracy: 1.0000\n",
      "Epoch 32/50\n",
      "188/188 [==============================] - 10s 55ms/step - loss: 4.1130e-08 - accuracy: 1.0000 - val_loss: 2.7541e-06 - val_accuracy: 1.0000\n",
      "Epoch 33/50\n",
      "188/188 [==============================] - 11s 56ms/step - loss: 4.2006e-08 - accuracy: 1.0000 - val_loss: 2.6282e-06 - val_accuracy: 1.0000\n",
      "Epoch 34/50\n",
      "188/188 [==============================] - 11s 57ms/step - loss: 4.1339e-08 - accuracy: 1.0000 - val_loss: 2.7617e-06 - val_accuracy: 1.0000\n",
      "Epoch 35/50\n",
      "188/188 [==============================] - 11s 56ms/step - loss: 4.5967e-08 - accuracy: 1.0000 - val_loss: 2.8170e-06 - val_accuracy: 1.0000\n",
      "Epoch 36/50\n",
      "188/188 [==============================] - 11s 56ms/step - loss: 4.0851e-08 - accuracy: 1.0000 - val_loss: 2.4840e-06 - val_accuracy: 1.0000\n",
      "Epoch 37/50\n",
      "188/188 [==============================] - 10s 55ms/step - loss: 4.7589e-08 - accuracy: 1.0000 - val_loss: 2.4237e-06 - val_accuracy: 1.0000\n",
      "Epoch 38/50\n",
      "188/188 [==============================] - 10s 55ms/step - loss: 5.1958e-08 - accuracy: 1.0000 - val_loss: 2.6095e-06 - val_accuracy: 1.0000\n",
      "Epoch 39/50\n",
      "188/188 [==============================] - 10s 55ms/step - loss: 6.0666e-08 - accuracy: 1.0000 - val_loss: 1.5869e-06 - val_accuracy: 1.0000\n",
      "Epoch 40/50\n",
      "188/188 [==============================] - 10s 55ms/step - loss: 2.4188e-08 - accuracy: 1.0000 - val_loss: 1.5303e-06 - val_accuracy: 1.0000\n",
      "Epoch 41/50\n",
      "188/188 [==============================] - 10s 54ms/step - loss: 3.6779e-08 - accuracy: 1.0000 - val_loss: 1.6139e-06 - val_accuracy: 1.0000\n",
      "Epoch 42/50\n",
      "188/188 [==============================] - 10s 55ms/step - loss: 2.9553e-08 - accuracy: 1.0000 - val_loss: 1.7066e-06 - val_accuracy: 1.0000\n",
      "Epoch 43/50\n",
      "188/188 [==============================] - 10s 55ms/step - loss: 2.2128e-08 - accuracy: 1.0000 - val_loss: 1.4822e-06 - val_accuracy: 1.0000\n",
      "Epoch 44/50\n",
      "188/188 [==============================] - 10s 55ms/step - loss: 2.6448e-08 - accuracy: 1.0000 - val_loss: 1.4922e-06 - val_accuracy: 1.0000\n",
      "Epoch 45/50\n",
      "188/188 [==============================] - 10s 54ms/step - loss: 2.1869e-08 - accuracy: 1.0000 - val_loss: 1.5324e-06 - val_accuracy: 1.0000\n",
      "Epoch 46/50\n",
      "188/188 [==============================] - 10s 54ms/step - loss: 2.3063e-08 - accuracy: 1.0000 - val_loss: 1.3692e-06 - val_accuracy: 1.0000\n",
      "Epoch 47/50\n",
      "188/188 [==============================] - 10s 54ms/step - loss: 2.8707e-08 - accuracy: 1.0000 - val_loss: 1.6972e-06 - val_accuracy: 1.0000\n",
      "Epoch 48/50\n",
      "188/188 [==============================] - 10s 54ms/step - loss: 1.8544e-08 - accuracy: 1.0000 - val_loss: 1.5557e-06 - val_accuracy: 1.0000\n",
      "Epoch 49/50\n",
      "188/188 [==============================] - 10s 54ms/step - loss: 2.1679e-08 - accuracy: 1.0000 - val_loss: 1.4121e-06 - val_accuracy: 1.0000\n",
      "Epoch 50/50\n",
      "188/188 [==============================] - 10s 54ms/step - loss: 1.8922e-08 - accuracy: 1.0000 - val_loss: 1.3728e-06 - val_accuracy: 1.0000\n"
     ]
    }
   ],
   "source": [
    "epochs = 50\n",
    "\n",
    "history = model.fit(train_generator, \n",
    "                    epochs=epochs, \n",
    "                    validation_data=val_generator)"
   ]
  },
  {
   "cell_type": "code",
   "execution_count": 22,
   "metadata": {
    "id": "ncc2WSwGcJQM"
   },
   "outputs": [],
   "source": [
    "model.save('mymodel1.h5')"
   ]
  },
  {
   "cell_type": "code",
   "execution_count": 23,
   "metadata": {
    "colab": {
     "base_uri": "https://localhost:8080/",
     "height": 1000
    },
    "id": "NZQArAcico0_",
    "outputId": "854d8dcc-3ace-4980-c324-7180e646f2e0"
   },
   "outputs": [
    {
     "data": {
      "text/plain": [
       "{'loss': [0.03998751565814018,\n",
       "  1.6278298744509812e-06,\n",
       "  1.1642371191555867e-06,\n",
       "  1.1976688938375446e-06,\n",
       "  1.6829743572088773e-06,\n",
       "  5.444987891678466e-07,\n",
       "  6.095314120102557e-07,\n",
       "  4.7527402102787164e-07,\n",
       "  4.233717731949582e-07,\n",
       "  2.6734548441709194e-07,\n",
       "  1.9756434710416215e-07,\n",
       "  1.660956172599981e-07,\n",
       "  1.5553355581232609e-07,\n",
       "  1.922506100981991e-07,\n",
       "  9.474111095642002e-08,\n",
       "  2.923846693647647e-07,\n",
       "  8.612069990476812e-08,\n",
       "  6.771684013529011e-08,\n",
       "  7.804811730238725e-08,\n",
       "  8.052597166852138e-08,\n",
       "  7.144937796965678e-08,\n",
       "  5.7673290143611666e-08,\n",
       "  1.0602499855849601e-07,\n",
       "  6.544682662479318e-08,\n",
       "  4.9301942084412076e-08,\n",
       "  8.148235508542712e-08,\n",
       "  6.65705783831072e-08,\n",
       "  4.298113864820152e-08,\n",
       "  1.2578374253280344e-07,\n",
       "  5.23078895753315e-08,\n",
       "  4.006471243656051e-08,\n",
       "  4.112967033620407e-08,\n",
       "  4.20055812355713e-08,\n",
       "  4.133871911449205e-08,\n",
       "  4.596723002237013e-08,\n",
       "  4.0850892446542275e-08,\n",
       "  4.758906868573831e-08,\n",
       "  5.1957965041538046e-08,\n",
       "  6.066557034500875e-08,\n",
       "  2.4188169689409733e-08,\n",
       "  3.677942217450436e-08,\n",
       "  2.9553019587069684e-08,\n",
       "  2.212766503362218e-08,\n",
       "  2.6447656509276385e-08,\n",
       "  2.1868903132826745e-08,\n",
       "  2.3063320142568955e-08,\n",
       "  2.8706846677550857e-08,\n",
       "  1.8544275448562075e-08,\n",
       "  2.167939072705849e-08,\n",
       "  1.89224849123093e-08],\n",
       " 'accuracy': [0.990981936454773,\n",
       "  1.0,\n",
       "  1.0,\n",
       "  1.0,\n",
       "  1.0,\n",
       "  1.0,\n",
       "  1.0,\n",
       "  1.0,\n",
       "  1.0,\n",
       "  1.0,\n",
       "  1.0,\n",
       "  1.0,\n",
       "  1.0,\n",
       "  1.0,\n",
       "  1.0,\n",
       "  1.0,\n",
       "  1.0,\n",
       "  1.0,\n",
       "  1.0,\n",
       "  1.0,\n",
       "  1.0,\n",
       "  1.0,\n",
       "  1.0,\n",
       "  1.0,\n",
       "  1.0,\n",
       "  1.0,\n",
       "  1.0,\n",
       "  1.0,\n",
       "  1.0,\n",
       "  1.0,\n",
       "  1.0,\n",
       "  1.0,\n",
       "  1.0,\n",
       "  1.0,\n",
       "  1.0,\n",
       "  1.0,\n",
       "  1.0,\n",
       "  1.0,\n",
       "  1.0,\n",
       "  1.0,\n",
       "  1.0,\n",
       "  1.0,\n",
       "  1.0,\n",
       "  1.0,\n",
       "  1.0,\n",
       "  1.0,\n",
       "  1.0,\n",
       "  1.0,\n",
       "  1.0,\n",
       "  1.0],\n",
       " 'val_loss': [3.2540901884203777e-07,\n",
       "  2.409225317023811e-07,\n",
       "  2.0596446859144635e-07,\n",
       "  1.7968336862850265e-07,\n",
       "  2.089346509137613e-07,\n",
       "  2.412925539374555e-07,\n",
       "  2.9641350351994333e-07,\n",
       "  3.7118698514859716e-07,\n",
       "  4.835887921217363e-07,\n",
       "  5.620386218652129e-07,\n",
       "  6.296994001786516e-07,\n",
       "  6.926989044586662e-07,\n",
       "  7.457899187102157e-07,\n",
       "  8.716792763152625e-07,\n",
       "  9.138215659731941e-07,\n",
       "  1.2499388049036497e-06,\n",
       "  1.292213141823595e-06,\n",
       "  1.3052045915173949e-06,\n",
       "  1.3443362831822014e-06,\n",
       "  1.4592941397495451e-06,\n",
       "  1.5227212770696497e-06,\n",
       "  1.5816546010682941e-06,\n",
       "  1.8343995407121838e-06,\n",
       "  1.8954849565488985e-06,\n",
       "  1.960333747774712e-06,\n",
       "  2.0391846646816703e-06,\n",
       "  2.2152182737045223e-06,\n",
       "  2.2386200271284906e-06,\n",
       "  2.643595735207782e-06,\n",
       "  2.9849938982806634e-06,\n",
       "  2.901361312979134e-06,\n",
       "  2.7540704650164116e-06,\n",
       "  2.6282268663635477e-06,\n",
       "  2.761719770205673e-06,\n",
       "  2.8169674806122202e-06,\n",
       "  2.4840412606863538e-06,\n",
       "  2.423732667011791e-06,\n",
       "  2.6095472094311845e-06,\n",
       "  1.5868832861087867e-06,\n",
       "  1.5303304508051951e-06,\n",
       "  1.613927793187031e-06,\n",
       "  1.7066016653188854e-06,\n",
       "  1.4822317098150961e-06,\n",
       "  1.4921575939297327e-06,\n",
       "  1.532427972961159e-06,\n",
       "  1.369173446619243e-06,\n",
       "  1.6971756622297107e-06,\n",
       "  1.5556912558167824e-06,\n",
       "  1.412147412338527e-06,\n",
       "  1.3727735677093733e-06],\n",
       " 'val_accuracy': [1.0,\n",
       "  1.0,\n",
       "  1.0,\n",
       "  1.0,\n",
       "  1.0,\n",
       "  1.0,\n",
       "  1.0,\n",
       "  1.0,\n",
       "  1.0,\n",
       "  1.0,\n",
       "  1.0,\n",
       "  1.0,\n",
       "  1.0,\n",
       "  1.0,\n",
       "  1.0,\n",
       "  1.0,\n",
       "  1.0,\n",
       "  1.0,\n",
       "  1.0,\n",
       "  1.0,\n",
       "  1.0,\n",
       "  1.0,\n",
       "  1.0,\n",
       "  1.0,\n",
       "  1.0,\n",
       "  1.0,\n",
       "  1.0,\n",
       "  1.0,\n",
       "  1.0,\n",
       "  1.0,\n",
       "  1.0,\n",
       "  1.0,\n",
       "  1.0,\n",
       "  1.0,\n",
       "  1.0,\n",
       "  1.0,\n",
       "  1.0,\n",
       "  1.0,\n",
       "  1.0,\n",
       "  1.0,\n",
       "  1.0,\n",
       "  1.0,\n",
       "  1.0,\n",
       "  1.0,\n",
       "  1.0,\n",
       "  1.0,\n",
       "  1.0,\n",
       "  1.0,\n",
       "  1.0,\n",
       "  1.0]}"
      ]
     },
     "execution_count": 23,
     "metadata": {},
     "output_type": "execute_result"
    }
   ],
   "source": [
    "history.history"
   ]
  },
  {
   "cell_type": "code",
   "execution_count": 24,
   "metadata": {
    "colab": {
     "base_uri": "https://localhost:8080/",
     "height": 513
    },
    "id": "ryemiuNsbka8",
    "outputId": "431f0e9f-4e8f-4f66-8ecd-d79cd4f761fb"
   },
   "outputs": [
    {
     "data": {
      "image/png": "[encoded data removed]",
      "text/plain": [
       "<Figure size 576x576 with 2 Axes>"
      ]
     },
     "metadata": {
      "needs_background": "light"
     },
     "output_type": "display_data"
    }
   ],
   "source": [
    "acc = history.history['accuracy']\n",
    "val_acc = history.history['val_accuracy']\n",
    "\n",
    "loss = history.history['loss']\n",
    "val_loss = history.history['val_loss']\n",
    "\n",
    "plt.figure(figsize=(8, 8))\n",
    "plt.subplot(2, 1, 1)\n",
    "plt.plot(acc, label='Training Accuracy')\n",
    "plt.plot(val_acc, label='Validation Accuracy')\n",
    "plt.legend(loc='lower right')\n",
    "plt.ylabel('Accuracy')\n",
    "plt.ylim([min(plt.ylim()),1])\n",
    "plt.title('Training and Validation Accuracy')\n",
    "\n",
    "plt.subplot(2, 1, 2)\n",
    "plt.plot(loss, label='Training Loss')\n",
    "plt.plot(val_loss, label='Validation Loss')\n",
    "plt.legend(loc='upper right')\n",
    "plt.ylabel('Cross Entropy')\n",
    "plt.ylim([0,1.0])\n",
    "plt.title('Training and Validation Loss')\n",
    "plt.xlabel('epoch')\n",
    "plt.show()\n"
   ]
  },
  {
   "cell_type": "markdown",
   "metadata": {
    "id": "qP_gg4ghX34l"
   },
   "source": [
    "# Model 2"
   ]
  },
  {
   "cell_type": "markdown",
   "metadata": {
    "id": "iJHu-0bKfaQ3"
   },
   "source": [
    "Leveraging the Tensorflow hub\n",
    "Model: https://tfhub.dev/google/tf2-preview/mobilenet_v2/feature_vector/4"
   ]
  },
  {
   "cell_type": "code",
   "execution_count": 25,
   "metadata": {
    "colab": {
     "base_uri": "https://localhost:8080/",
     "height": 119
    },
    "id": "zAwYQuH0fc3S",
    "outputId": "b6640010-c9cf-4409-c7cc-0569cd3f8186"
   },
   "outputs": [
    {
     "name": "stdout",
     "output_type": "stream",
     "text": [
      "Hub version:  0.9.0\n"
     ]
    }
   ],
   "source": [
    "#!pip install tensorflow_hub\n",
    "import tensorflow_hub as hub\n",
    "print(\"Hub version: \", hub.__version__)"
   ]
  },
  {
   "cell_type": "code",
   "execution_count": 26,
   "metadata": {
    "colab": {
     "base_uri": "https://localhost:8080/",
     "height": 255
    },
    "id": "BogY9gtOfpQY",
    "outputId": "87ab148d-c6a9-4092-a052-5463fc0d411e"
   },
   "outputs": [
    {
     "name": "stdout",
     "output_type": "stream",
     "text": [
      "Model: \"sequential_2\"\n",
      "_________________________________________________________________\n",
      "Layer (type)                 Output Shape              Param #   \n",
      "=================================================================\n",
      "keras_layer (KerasLayer)     (None, 1280)              2257984   \n",
      "_________________________________________________________________\n",
      "dropout_1 (Dropout)          (None, 1280)              0         \n",
      "_________________________________________________________________\n",
      "dense_3 (Dense)              (None, 4)                 5124      \n",
      "=================================================================\n",
      "Total params: 2,263,108\n",
      "Trainable params: 5,124\n",
      "Non-trainable params: 2,257,984\n",
      "_________________________________________________________________\n"
     ]
    }
   ],
   "source": [
    "model2 = tf.keras.Sequential([\n",
    "  hub.KerasLayer(\"https://tfhub.dev/google/tf2-preview/mobilenet_v2/feature_vector/4\", \n",
    "                 output_shape=[1280],\n",
    "                 trainable=False),\n",
    "  tf.keras.layers.Dropout(0.4),\n",
    "  tf.keras.layers.Dense(train_generator.num_classes, activation='softmax')\n",
    "])\n",
    "model2.build([None, 224, 224, 3])\n",
    "\n",
    "model2.summary()"
   ]
  },
  {
   "cell_type": "code",
   "execution_count": 27,
   "metadata": {
    "colab": {
     "base_uri": "https://localhost:8080/",
     "height": 445
    },
    "id": "GdscWQnbdrKL",
    "outputId": "12838c43-fdd7-45fb-9eb3-980f62632ee5"
   },
   "outputs": [
    {
     "name": "stdout",
     "output_type": "stream",
     "text": [
      "Epoch 1/10\n",
      "188/188 [==============================] - 11s 58ms/step - loss: 0.0981 - acc: 0.9654 - val_loss: 0.0032 - val_acc: 1.0000\n",
      "Epoch 2/10\n",
      "188/188 [==============================] - 10s 56ms/step - loss: 0.0035 - acc: 1.0000 - val_loss: 0.0012 - val_acc: 1.0000\n",
      "Epoch 3/10\n",
      "188/188 [==============================] - 10s 55ms/step - loss: 0.0018 - acc: 1.0000 - val_loss: 6.7741e-04 - val_acc: 1.0000\n",
      "Epoch 4/10\n",
      "188/188 [==============================] - 10s 55ms/step - loss: 0.0011 - acc: 1.0000 - val_loss: 4.3902e-04 - val_acc: 1.0000\n",
      "Epoch 5/10\n",
      "188/188 [==============================] - 10s 55ms/step - loss: 7.1115e-04 - acc: 1.0000 - val_loss: 3.2490e-04 - val_acc: 1.0000\n",
      "Epoch 6/10\n",
      "188/188 [==============================] - 10s 55ms/step - loss: 4.8403e-04 - acc: 1.0000 - val_loss: 2.4278e-04 - val_acc: 1.0000\n",
      "Epoch 7/10\n",
      "188/188 [==============================] - 10s 55ms/step - loss: 4.2153e-04 - acc: 1.0000 - val_loss: 1.8489e-04 - val_acc: 1.0000\n",
      "Epoch 8/10\n",
      "188/188 [==============================] - 10s 55ms/step - loss: 3.2945e-04 - acc: 1.0000 - val_loss: 1.5017e-04 - val_acc: 1.0000\n",
      "Epoch 9/10\n",
      "188/188 [==============================] - 10s 55ms/step - loss: 2.7742e-04 - acc: 1.0000 - val_loss: 1.2474e-04 - val_acc: 1.0000\n",
      "Epoch 10/10\n",
      "188/188 [==============================] - 10s 55ms/step - loss: 2.2407e-04 - acc: 1.0000 - val_loss: 1.0563e-04 - val_acc: 1.0000\n"
     ]
    }
   ],
   "source": [
    "model2.compile(\n",
    "  optimizer=tf.keras.optimizers.Adam(),\n",
    "  loss='categorical_crossentropy',\n",
    "  metrics=['acc'])\n",
    "\n",
    "steps_per_epoch = np.ceil(train_generator.samples/train_generator.batch_size)\n",
    "val_steps_per_epoch = np.ceil(val_generator.samples/val_generator.batch_size)\n",
    "\n",
    "history2 = model2.fit(\n",
    "    train_generator, \n",
    "    epochs=10,\n",
    "    verbose=1,\n",
    "    steps_per_epoch=steps_per_epoch,\n",
    "    validation_data=val_generator,\n",
    "    validation_steps=val_steps_per_epoch).history"
   ]
  },
  {
   "cell_type": "code",
   "execution_count": 28,
   "metadata": {},
   "outputs": [],
   "source": [
    "model2.save('mymodel2.h5')"
   ]
  },
  {
   "cell_type": "code",
   "execution_count": 29,
   "metadata": {
    "colab": {
     "base_uri": "https://localhost:8080/",
     "height": 391
    },
    "id": "UZAnr6RYhc03",
    "outputId": "7f7b5946-5d78-44d2-f094-3a313ea6696b"
   },
   "outputs": [
    {
     "data": {
      "text/plain": [
       "{'loss': [0.09814160317182541,\n",
       "  0.003539726370945573,\n",
       "  0.0017678487347438931,\n",
       "  0.0010592007311061025,\n",
       "  0.0007111541926860809,\n",
       "  0.00048402821994386613,\n",
       "  0.0004215320514049381,\n",
       "  0.00032945230486802757,\n",
       "  0.0002774244057945907,\n",
       "  0.00022407376673072577],\n",
       " 'acc': [0.9654308557510376, 1.0, 1.0, 1.0, 1.0, 1.0, 1.0, 1.0, 1.0, 1.0],\n",
       " 'val_loss': [0.003183711087331176,\n",
       "  0.0012050522491335869,\n",
       "  0.0006774120847694576,\n",
       "  0.00043902391917072237,\n",
       "  0.00032489580917172134,\n",
       "  0.00024278323689941317,\n",
       "  0.00018489068315830082,\n",
       "  0.00015017106488812715,\n",
       "  0.00012473775132093579,\n",
       "  0.00010563360410742462],\n",
       " 'val_acc': [1.0, 1.0, 1.0, 1.0, 1.0, 1.0, 1.0, 1.0, 1.0, 1.0]}"
      ]
     },
     "execution_count": 29,
     "metadata": {},
     "output_type": "execute_result"
    }
   ],
   "source": [
    "history2"
   ]
  },
  {
   "cell_type": "code",
   "execution_count": 30,
   "metadata": {
    "colab": {
     "base_uri": "https://localhost:8080/",
     "height": 513
    },
    "id": "chq9CUeWe7Br",
    "outputId": "7afd12f7-0dc3-48ba-b4ac-4eaa0708a0d7"
   },
   "outputs": [
    {
     "data": {
      "image/png": "[encoded data removed]",
      "text/plain": [
       "<Figure size 576x576 with 2 Axes>"
      ]
     },
     "metadata": {
      "needs_background": "light"
     },
     "output_type": "display_data"
    }
   ],
   "source": [
    "acc = history2['acc']\n",
    "val_acc = history2['val_acc']\n",
    "\n",
    "loss = history2['loss']\n",
    "val_loss = history2['val_loss']\n",
    "\n",
    "plt.figure(figsize=(8, 8))\n",
    "plt.subplot(2, 1, 1)\n",
    "plt.plot(acc, label='Training Accuracy')\n",
    "plt.plot(val_acc, label='Validation Accuracy')\n",
    "plt.legend(loc='lower right')\n",
    "plt.ylabel('Accuracy')\n",
    "plt.ylim([min(plt.ylim()),1])\n",
    "plt.title('Training and Validation Accuracy')\n",
    "\n",
    "plt.subplot(2, 1, 2)\n",
    "plt.plot(loss, label='Training Loss')\n",
    "plt.plot(val_loss, label='Validation Loss')\n",
    "plt.legend(loc='upper right')\n",
    "plt.ylabel('Cross Entropy')\n",
    "plt.ylim([0,1.0])\n",
    "plt.title('Training and Validation Loss')\n",
    "plt.xlabel('epoch')\n",
    "plt.show()"
   ]
  },
  {
   "cell_type": "markdown",
   "metadata": {
    "id": "p3CFDw8lhqRh"
   },
   "source": [
    "#Model3"
   ]
  },
  {
   "cell_type": "markdown",
   "metadata": {
    "id": "7Z5m2g3Lhsjm"
   },
   "source": [
    "Inception v3:  https://tfhub.dev/google/tf2-preview/inception_v3/classification/4"
   ]
  },
  {
   "cell_type": "code",
   "execution_count": 31,
   "metadata": {
    "colab": {
     "base_uri": "https://localhost:8080/",
     "height": 289
    },
    "id": "qV75oh_Uhu7u",
    "outputId": "686d3d81-61fa-4166-8ab2-127acffdde70"
   },
   "outputs": [
    {
     "name": "stdout",
     "output_type": "stream",
     "text": [
      "Model: \"sequential_3\"\n",
      "_________________________________________________________________\n",
      "Layer (type)                 Output Shape              Param #   \n",
      "=================================================================\n",
      "keras_layer_1 (KerasLayer)   (None, 1001)              23853833  \n",
      "_________________________________________________________________\n",
      "dropout_2 (Dropout)          (None, 1001)              0         \n",
      "_________________________________________________________________\n",
      "dense_4 (Dense)              (None, 64)                64128     \n",
      "_________________________________________________________________\n",
      "dense_5 (Dense)              (None, 4)                 260       \n",
      "=================================================================\n",
      "Total params: 23,918,221\n",
      "Trainable params: 64,388\n",
      "Non-trainable params: 23,853,833\n",
      "_________________________________________________________________\n"
     ]
    }
   ],
   "source": [
    "from keras import regularizers\n",
    "model3 = tf.keras.Sequential([\n",
    "  hub.KerasLayer(\"https://tfhub.dev/google/tf2-preview/inception_v3/classification/4\", \n",
    "                 output_shape=[1001],\n",
    "                 trainable=False),\n",
    "  tf.keras.layers.Dropout(0.5),#0.4\n",
    "  tf.keras.layers.Dense(64, kernel_regularizer=regularizers.l2(0.03), activation='relu'),#0.01\n",
    "  tf.keras.layers.Dense(train_generator.num_classes, activation='softmax')\n",
    "])\n",
    "model3.build([None, 224, 224, 3])\n",
    "\n",
    "model3.summary()"
   ]
  },
  {
   "cell_type": "code",
   "execution_count": 32,
   "metadata": {
    "colab": {
     "base_uri": "https://localhost:8080/",
     "height": 1000
    },
    "id": "cYPJn3sViDK7",
    "outputId": "77ae40fb-5f32-45af-8b5f-732e6d517db3",
    "scrolled": true
   },
   "outputs": [
    {
     "name": "stdout",
     "output_type": "stream",
     "text": [
      "Epoch 1/30\n",
      "188/188 [==============================] - 14s 75ms/step - loss: 1.3880 - acc: 0.9922 - val_loss: 0.2273 - val_acc: 1.0000\n",
      "Epoch 2/30\n",
      "188/188 [==============================] - 13s 68ms/step - loss: 0.0852 - acc: 1.0000 - val_loss: 0.0252 - val_acc: 0.9997\n",
      "Epoch 3/30\n",
      "188/188 [==============================] - 13s 67ms/step - loss: 0.0134 - acc: 1.0000 - val_loss: 0.0083 - val_acc: 0.9997\n",
      "Epoch 4/30\n",
      "188/188 [==============================] - 13s 69ms/step - loss: 0.0064 - acc: 1.0000 - val_loss: 0.0062 - val_acc: 0.9997\n",
      "Epoch 5/30\n",
      "188/188 [==============================] - 13s 69ms/step - loss: 0.0051 - acc: 1.0000 - val_loss: 0.0071 - val_acc: 0.9997\n",
      "Epoch 6/30\n",
      "188/188 [==============================] - 13s 69ms/step - loss: 0.0045 - acc: 1.0000 - val_loss: 0.0046 - val_acc: 0.9997\n",
      "Epoch 7/30\n",
      "188/188 [==============================] - 13s 68ms/step - loss: 0.0045 - acc: 1.0000 - val_loss: 0.0051 - val_acc: 0.9997\n",
      "Epoch 8/30\n",
      "188/188 [==============================] - 13s 69ms/step - loss: 0.0348 - acc: 0.9994 - val_loss: 0.0083 - val_acc: 0.9997\n",
      "Epoch 9/30\n",
      "188/188 [==============================] - 14s 77ms/step - loss: 0.0044 - acc: 1.0000 - val_loss: 0.0051 - val_acc: 0.9997\n",
      "Epoch 10/30\n",
      "188/188 [==============================] - 13s 70ms/step - loss: 0.0037 - acc: 1.0000 - val_loss: 0.0058 - val_acc: 0.9997\n",
      "Epoch 11/30\n",
      "188/188 [==============================] - 13s 69ms/step - loss: 0.0039 - acc: 1.0000 - val_loss: 0.0040 - val_acc: 0.9997\n",
      "Epoch 12/30\n",
      "188/188 [==============================] - 13s 69ms/step - loss: 0.0068 - acc: 1.0000 - val_loss: 0.0065 - val_acc: 0.9997\n",
      "Epoch 13/30\n",
      "188/188 [==============================] - 13s 69ms/step - loss: 0.0032 - acc: 1.0000 - val_loss: 0.0033 - val_acc: 0.9997\n",
      "Epoch 14/30\n",
      "188/188 [==============================] - 13s 68ms/step - loss: 0.0404 - acc: 0.9994 - val_loss: 0.0190 - val_acc: 0.9997\n",
      "Epoch 15/30\n",
      "188/188 [==============================] - 13s 68ms/step - loss: 0.0047 - acc: 1.0000 - val_loss: 0.0047 - val_acc: 0.9993\n",
      "Epoch 16/30\n",
      "188/188 [==============================] - 13s 68ms/step - loss: 0.0027 - acc: 1.0000 - val_loss: 0.0032 - val_acc: 0.9997\n",
      "Epoch 17/30\n",
      "188/188 [==============================] - 13s 69ms/step - loss: 0.0026 - acc: 1.0000 - val_loss: 0.0045 - val_acc: 0.9993\n",
      "Epoch 18/30\n",
      "188/188 [==============================] - 13s 69ms/step - loss: 0.0245 - acc: 0.9997 - val_loss: 0.0791 - val_acc: 0.9997\n",
      "Epoch 19/30\n",
      "188/188 [==============================] - 13s 69ms/step - loss: 0.0117 - acc: 1.0000 - val_loss: 0.0032 - val_acc: 0.9997\n",
      "Epoch 20/30\n",
      "188/188 [==============================] - 13s 68ms/step - loss: 0.0026 - acc: 1.0000 - val_loss: 0.0111 - val_acc: 0.9977\n",
      "Epoch 21/30\n",
      "188/188 [==============================] - 13s 69ms/step - loss: 0.0965 - acc: 0.9986 - val_loss: 0.0191 - val_acc: 0.9997\n",
      "Epoch 22/30\n",
      "188/188 [==============================] - 13s 68ms/step - loss: 0.0099 - acc: 0.9999 - val_loss: 0.0033 - val_acc: 0.9997\n",
      "Epoch 23/30\n",
      "188/188 [==============================] - 13s 68ms/step - loss: 0.0023 - acc: 1.0000 - val_loss: 0.0027 - val_acc: 0.9997\n",
      "Epoch 24/30\n",
      "188/188 [==============================] - 13s 69ms/step - loss: 0.0090 - acc: 0.9999 - val_loss: 0.0275 - val_acc: 0.9993\n",
      "Epoch 25/30\n",
      "188/188 [==============================] - 13s 68ms/step - loss: 0.0044 - acc: 1.0000 - val_loss: 0.0026 - val_acc: 0.9997\n",
      "Epoch 26/30\n",
      "188/188 [==============================] - 13s 68ms/step - loss: 0.0020 - acc: 1.0000 - val_loss: 0.0027 - val_acc: 0.9997\n",
      "Epoch 27/30\n",
      "188/188 [==============================] - 13s 68ms/step - loss: 0.0019 - acc: 1.0000 - val_loss: 0.0028 - val_acc: 0.9997\n",
      "Epoch 28/30\n",
      "188/188 [==============================] - 13s 69ms/step - loss: 0.0019 - acc: 1.0000 - val_loss: 0.0028 - val_acc: 0.9997\n",
      "Epoch 29/30\n",
      "188/188 [==============================] - 13s 69ms/step - loss: 0.0020 - acc: 1.0000 - val_loss: 0.0025 - val_acc: 0.9997\n",
      "Epoch 30/30\n",
      "188/188 [==============================] - 13s 68ms/step - loss: 0.0025 - acc: 1.0000 - val_loss: 0.0022 - val_acc: 0.9997\n"
     ]
    }
   ],
   "source": [
    "model3.compile(\n",
    "  optimizer=tf.keras.optimizers.Adam(),\n",
    "  loss='categorical_crossentropy',\n",
    "  metrics=['acc'])\n",
    "\n",
    "steps_per_epoch = np.ceil(train_generator.samples/train_generator.batch_size)\n",
    "val_steps_per_epoch = np.ceil(val_generator.samples/val_generator.batch_size)\n",
    "\n",
    "history3 = model3.fit(\n",
    "    train_generator, \n",
    "    epochs=30,\n",
    "    verbose=1,\n",
    "    steps_per_epoch=steps_per_epoch,\n",
    "    validation_data=val_generator,\n",
    "    validation_steps=val_steps_per_epoch).history"
   ]
  },
  {
   "cell_type": "code",
   "execution_count": 33,
   "metadata": {},
   "outputs": [],
   "source": [
    "model3.save('mymodel3.h5')"
   ]
  },
  {
   "cell_type": "code",
   "execution_count": 34,
   "metadata": {
    "colab": {
     "base_uri": "https://localhost:8080/",
     "height": 513
    },
    "id": "WzLuV2yFj5MJ",
    "outputId": "1f8af5f1-6ab4-4572-f9c2-4d6bd7032f58",
    "scrolled": false
   },
   "outputs": [
    {
     "data": {
      "image/png": "[encoded data removed]",
      "text/plain": [
       "<Figure size 576x576 with 2 Axes>"
      ]
     },
     "metadata": {
      "needs_background": "light"
     },
     "output_type": "display_data"
    }
   ],
   "source": [
    "acc = history3['acc']\n",
    "val_acc = history3['val_acc']\n",
    "\n",
    "loss = history3['loss']\n",
    "val_loss = history3['val_loss']\n",
    "\n",
    "myfig=plt.figure(figsize=(8, 8))\n",
    "plt.subplot(2, 1, 1)\n",
    "plt.plot(acc, label='Training Accuracy')\n",
    "plt.plot(val_acc, label='Validation Accuracy')\n",
    "plt.legend(loc='lower right')\n",
    "plt.ylabel('Accuracy')\n",
    "plt.ylim([min(plt.ylim()),1])\n",
    "plt.title('Training and Validation Accuracy')\n",
    "\n",
    "plt.subplot(2, 1, 2)\n",
    "plt.plot(loss, label='Training Loss')\n",
    "plt.plot(val_loss, label='Validation Loss')\n",
    "plt.legend(loc='upper right')\n",
    "plt.ylabel('Cross Entropy')\n",
    "plt.ylim([0,1.0])\n",
    "plt.title('Training and Validation Loss')\n",
    "plt.xlabel('epoch')\n",
    "plt.show()"
   ]
  },
  {
   "cell_type": "code",
   "execution_count": 35,
   "metadata": {
    "id": "ppnG5GRUq0IY"
   },
   "outputs": [],
   "source": [
    "myfig.savefig('evaluation.pdf')"
   ]
  },
  {
   "cell_type": "code",
   "execution_count": 36,
   "metadata": {
    "colab": {
     "base_uri": "https://localhost:8080/",
     "height": 323
    },
    "id": "9qHZncVprEkY",
    "outputId": "2bca090e-18d5-4299-b881-d71bbb129d6e"
   },
   "outputs": [],
   "source": [
    "#from google.colab import files\n",
    "#files.download('evaluation.pdf')"
   ]
  },
  {
   "cell_type": "markdown",
   "metadata": {
    "id": "TCG-3FwYrnv9"
   },
   "source": [
    "#Load and Save models"
   ]
  },
  {
   "cell_type": "code",
   "execution_count": 37,
   "metadata": {
    "colab": {
     "base_uri": "https://localhost:8080/",
     "height": 428
    },
    "id": "YR00Q056rqQB",
    "outputId": "b6dd1d27-f9ff-4230-f4bb-b71b98505b8d"
   },
   "outputs": [],
   "source": [
    "\n",
    "#tf.savemodel()\n",
    "\n",
    "SHAPE_SAVED_MODEL = \"saved_models/shape\"\n",
    "#tf.keras.experimental.export_saved_model(model2, SHAPE_SAVED_MODEL)\n",
    "model.save(SHAPE_SAVED_MODEL)\n"
   ]
  },
  {
   "cell_type": "code",
   "execution_count": 38,
   "metadata": {
    "colab": {
     "base_uri": "https://localhost:8080/",
     "height": 187
    },
    "id": "DLFI4yODsRvK",
    "outputId": "fd8ef98d-d0c8-44d3-9a9a-69291d945edf"
   },
   "outputs": [
    {
     "name": "stdout",
     "output_type": "stream",
     "text": [
      "Validation batch shape: (64, 224, 224, 3)\n"
     ]
    }
   ],
   "source": [
    "# Load SavedModel\n",
    "\n",
    "#shapes_model = tf.keras.experimental.load_from_saved_model(SHAPE_SAVED_MODEL, \n",
    "#                                                            custom_objects={'KerasLayer':hub.KerasLayer})\n",
    "\n",
    "shapes_model = tf.keras.models.load_model(SHAPE_SAVED_MODEL, custom_objects={'KerasLayer':hub.KerasLayer})\n",
    "\n",
    "# Get images and labels batch from validation dataset generator\n",
    "\n",
    "val_image_batch, val_label_batch = next(iter(val_generator))\n",
    "true_label_ids = np.argmax(val_label_batch, axis=-1)\n",
    "\n",
    "print(\"Validation batch shape:\", val_image_batch.shape)"
   ]
  },
  {
   "cell_type": "code",
   "execution_count": 39,
   "metadata": {
    "colab": {
     "base_uri": "https://localhost:8080/",
     "height": 34
    },
    "id": "H4Zut8T1shZn",
    "outputId": "5aac06ad-b159-4b30-969c-c35741936d60"
   },
   "outputs": [
    {
     "name": "stdout",
     "output_type": "stream",
     "text": [
      "Prediction results shape: (64, 4)\n"
     ]
    }
   ],
   "source": [
    "tf_model_predictions = shapes_model.predict(val_image_batch)\n",
    "print(\"Prediction results shape:\", tf_model_predictions.shape)"
   ]
  },
  {
   "cell_type": "code",
   "execution_count": 40,
   "metadata": {
    "colab": {
     "base_uri": "https://localhost:8080/",
     "height": 34
    },
    "id": "3lARRXCus9vp",
    "outputId": "70f4687d-db7a-4201-ddaa-f877f76cd57f"
   },
   "outputs": [
    {
     "name": "stdout",
     "output_type": "stream",
     "text": [
      "['Circle' 'Square' 'Star' 'Triangle']\n"
     ]
    }
   ],
   "source": [
    "dataset_labels = sorted(train_generator.class_indices.items(), key=lambda pair:pair[1])\n",
    "dataset_labels = np.array([key.title() for key, value in dataset_labels])\n",
    "print(dataset_labels)"
   ]
  },
  {
   "cell_type": "code",
   "execution_count": 41,
   "metadata": {
    "colab": {
     "base_uri": "https://localhost:8080/",
     "height": 221
    },
    "id": "UfNc5IRfsm5a",
    "outputId": "006b6518-d630-4171-cf43-d69a52d63e24"
   },
   "outputs": [
    {
     "name": "stdout",
     "output_type": "stream",
     "text": [
      "Prediction results for the first elements\n"
     ]
    },
    {
     "data": {
      "text/html": [
       "<div>\n",
       "<style scoped>\n",
       "    .dataframe tbody tr th:only-of-type {\n",
       "        vertical-align: middle;\n",
       "    }\n",
       "\n",
       "    .dataframe tbody tr th {\n",
       "        vertical-align: top;\n",
       "    }\n",
       "\n",
       "    .dataframe thead th {\n",
       "        text-align: right;\n",
       "    }\n",
       "</style>\n",
       "<table border=\"1\" class=\"dataframe\">\n",
       "  <thead>\n",
       "    <tr style=\"text-align: right;\">\n",
       "      <th></th>\n",
       "      <th>Circle</th>\n",
       "      <th>Square</th>\n",
       "      <th>Star</th>\n",
       "      <th>Triangle</th>\n",
       "    </tr>\n",
       "  </thead>\n",
       "  <tbody>\n",
       "    <tr>\n",
       "      <th>0</th>\n",
       "      <td>1.362775e-18</td>\n",
       "      <td>1.551135e-17</td>\n",
       "      <td>1.000000e+00</td>\n",
       "      <td>4.053147e-31</td>\n",
       "    </tr>\n",
       "    <tr>\n",
       "      <th>1</th>\n",
       "      <td>1.000000e+00</td>\n",
       "      <td>2.188995e-17</td>\n",
       "      <td>4.849568e-19</td>\n",
       "      <td>2.889204e-24</td>\n",
       "    </tr>\n",
       "    <tr>\n",
       "      <th>2</th>\n",
       "      <td>1.000000e+00</td>\n",
       "      <td>2.032320e-17</td>\n",
       "      <td>8.675453e-19</td>\n",
       "      <td>3.364211e-27</td>\n",
       "    </tr>\n",
       "    <tr>\n",
       "      <th>3</th>\n",
       "      <td>3.992700e-12</td>\n",
       "      <td>1.000000e+00</td>\n",
       "      <td>2.650444e-12</td>\n",
       "      <td>1.365471e-10</td>\n",
       "    </tr>\n",
       "    <tr>\n",
       "      <th>4</th>\n",
       "      <td>1.611142e-16</td>\n",
       "      <td>2.203020e-15</td>\n",
       "      <td>1.000000e+00</td>\n",
       "      <td>1.086125e-27</td>\n",
       "    </tr>\n",
       "  </tbody>\n",
       "</table>\n",
       "</div>"
      ],
      "text/plain": [
       "         Circle        Square          Star      Triangle\n",
       "0  1.362775e-18  1.551135e-17  1.000000e+00  4.053147e-31\n",
       "1  1.000000e+00  2.188995e-17  4.849568e-19  2.889204e-24\n",
       "2  1.000000e+00  2.032320e-17  8.675453e-19  3.364211e-27\n",
       "3  3.992700e-12  1.000000e+00  2.650444e-12  1.365471e-10\n",
       "4  1.611142e-16  2.203020e-15  1.000000e+00  1.086125e-27"
      ]
     },
     "execution_count": 41,
     "metadata": {},
     "output_type": "execute_result"
    }
   ],
   "source": [
    "# Convert prediction results to Pandas dataframe, for better visualization\n",
    "\n",
    "tf_pred_dataframe = pd.DataFrame(tf_model_predictions)\n",
    "tf_pred_dataframe.columns = dataset_labels\n",
    "\n",
    "print(\"Prediction results for the first elements\")\n",
    "tf_pred_dataframe.head()"
   ]
  },
  {
   "cell_type": "code",
   "execution_count": 42,
   "metadata": {
    "colab": {
     "base_uri": "https://localhost:8080/",
     "height": 602
    },
    "id": "UQcQki9htLhR",
    "outputId": "4163a8e6-e3a8-4488-aa27-f89bee9c3e63"
   },
   "outputs": [
    {
     "data": {
      "image/png": "[encoded data removed]",
      "text/plain": [
       "<Figure size 720x648 with 30 Axes>"
      ]
     },
     "metadata": {
      "needs_background": "light"
     },
     "output_type": "display_data"
    }
   ],
   "source": [
    "predicted_ids = np.argmax(tf_model_predictions, axis=-1)\n",
    "predicted_labels = dataset_labels[predicted_ids]\n",
    "# Print images batch and labels predictions\n",
    "\n",
    "plt.figure(figsize=(10,9))\n",
    "plt.subplots_adjust(hspace=0.5)\n",
    "for n in range(30):\n",
    "  plt.subplot(6,5,n+1)\n",
    "  plt.imshow(val_image_batch[n])\n",
    "  color = \"green\" if predicted_ids[n] == true_label_ids[n] else \"red\"\n",
    "  plt.title(predicted_labels[n].title(), color=color)\n",
    "  plt.axis('off')\n",
    "_ = plt.suptitle(\"Model predictions (green: correct, red: incorrect)\")"
   ]
  },
  {
   "cell_type": "code",
   "execution_count": 46,
   "metadata": {},
   "outputs": [],
   "source": [
    "import cv2\n",
    "import tensorflow as tf\n",
    "\n",
    "CATEGORIES = [\"circle\", \"square\", \"star\", \"triangle\"]\n",
    "\n",
    "def prepare(filepath):\n",
    "    IMG_SIZE = 224\n",
    "    img_array = cv2.imread(filepath, cv2.IMREAD_GRAYSCALE)\n",
    "    new_array = cv2.resize(img_array, (IMG_SIZE, IMG_SIZE))\n",
    "    return new_array.reshape(-1, IMG_SIZE, IMG_SIZE, 1)\n",
    "\n",
    "from tensorflow.keras.models import load_model\n",
    "new_model = load_model('mymodel1.h5')"
   ]
  },
  {
   "cell_type": "code",
   "execution_count": 47,
   "metadata": {},
   "outputs": [
    {
     "name": "stdout",
     "output_type": "stream",
     "text": [
      "Model: \"sequential_1\"\n",
      "_________________________________________________________________\n",
      "Layer (type)                 Output Shape              Param #   \n",
      "=================================================================\n",
      "mobilenetv2_1.00_224 (Functi (None, 7, 7, 1280)        2257984   \n",
      "_________________________________________________________________\n",
      "conv2d_4 (Conv2D)            (None, 5, 5, 32)          368672    \n",
      "_________________________________________________________________\n",
      "dropout (Dropout)            (None, 5, 5, 32)          0         \n",
      "_________________________________________________________________\n",
      "global_average_pooling2d (Gl (None, 32)                0         \n",
      "_________________________________________________________________\n",
      "dense_2 (Dense)              (None, 4)                 132       \n",
      "=================================================================\n",
      "Total params: 2,626,788\n",
      "Trainable params: 368,804\n",
      "Non-trainable params: 2,257,984\n",
      "_________________________________________________________________\n"
     ]
    },
    {
     "data": {
      "text/plain": [
       "<tensorflow.python.keras.optimizer_v2.adam.Adam at 0x18121949848>"
      ]
     },
     "execution_count": 47,
     "metadata": {},
     "output_type": "execute_result"
    }
   ],
   "source": [
    "new_model.summary()\n",
    "#new_model.get_weights()\n",
    "new_model.optimizer"
   ]
  },
  {
   "cell_type": "code",
   "execution_count": 48,
   "metadata": {},
   "outputs": [
    {
     "name": "stderr",
     "output_type": "stream",
     "text": [
      "W1025 12:11:25.468343  9396 functional.py:587] Model was constructed with shape (None, 224, 224, 3) for input Tensor(\"mobilenetv2_1.00_224_input_3:0\", shape=(None, 224, 224, 3), dtype=float32), but it was called on an input with incompatible shape (None, 1).\n",
      "W1025 12:11:25.469831  9396 functional.py:587] Model was constructed with shape (None, 224, 224, 3) for input Tensor(\"input_1_3:0\", shape=(None, 224, 224, 3), dtype=float32), but it was called on an input with incompatible shape (None, 1).\n"
     ]
    },
    {
     "ename": "ValueError",
     "evalue": "in user code:\n\n    c:\\program files (x86)\\microsoft visual studio\\shared\\python37_64\\lib\\site-packages\\tensorflow\\python\\keras\\engine\\training.py:1462 predict_function  *\n        return step_function(self, iterator)\n    c:\\program files (x86)\\microsoft visual studio\\shared\\python37_64\\lib\\site-packages\\tensorflow\\python\\keras\\engine\\training.py:1452 step_function  **\n        outputs = model.distribute_strategy.run(run_step, args=(data,))\n    c:\\program files (x86)\\microsoft visual studio\\shared\\python37_64\\lib\\site-packages\\tensorflow\\python\\distribute\\distribute_lib.py:1211 run\n        return self._extended.call_for_each_replica(fn, args=args, kwargs=kwargs)\n    c:\\program files (x86)\\microsoft visual studio\\shared\\python37_64\\lib\\site-packages\\tensorflow\\python\\distribute\\distribute_lib.py:2585 call_for_each_replica\n        return self._call_for_each_replica(fn, args, kwargs)\n    c:\\program files (x86)\\microsoft visual studio\\shared\\python37_64\\lib\\site-packages\\tensorflow\\python\\distribute\\distribute_lib.py:2945 _call_for_each_replica\n        return fn(*args, **kwargs)\n    c:\\program files (x86)\\microsoft visual studio\\shared\\python37_64\\lib\\site-packages\\tensorflow\\python\\keras\\engine\\training.py:1445 run_step  **\n        outputs = model.predict_step(data)\n    c:\\program files (x86)\\microsoft visual studio\\shared\\python37_64\\lib\\site-packages\\tensorflow\\python\\keras\\engine\\training.py:1418 predict_step\n        return self(x, training=False)\n    c:\\program files (x86)\\microsoft visual studio\\shared\\python37_64\\lib\\site-packages\\tensorflow\\python\\keras\\engine\\base_layer.py:985 __call__\n        outputs = call_fn(inputs, *args, **kwargs)\n    c:\\program files (x86)\\microsoft visual studio\\shared\\python37_64\\lib\\site-packages\\tensorflow\\python\\keras\\engine\\sequential.py:372 call\n        return super(Sequential, self).call(inputs, training=training, mask=mask)\n    c:\\program files (x86)\\microsoft visual studio\\shared\\python37_64\\lib\\site-packages\\tensorflow\\python\\keras\\engine\\functional.py:386 call\n        inputs, training=training, mask=mask)\n    c:\\program files (x86)\\microsoft visual studio\\shared\\python37_64\\lib\\site-packages\\tensorflow\\python\\keras\\engine\\functional.py:508 _run_internal_graph\n        outputs = node.layer(*args, **kwargs)\n    c:\\program files (x86)\\microsoft visual studio\\shared\\python37_64\\lib\\site-packages\\tensorflow\\python\\keras\\engine\\base_layer.py:985 __call__\n        outputs = call_fn(inputs, *args, **kwargs)\n    c:\\program files (x86)\\microsoft visual studio\\shared\\python37_64\\lib\\site-packages\\tensorflow\\python\\keras\\engine\\functional.py:386 call\n        inputs, training=training, mask=mask)\n    c:\\program files (x86)\\microsoft visual studio\\shared\\python37_64\\lib\\site-packages\\tensorflow\\python\\keras\\engine\\functional.py:508 _run_internal_graph\n        outputs = node.layer(*args, **kwargs)\n    c:\\program files (x86)\\microsoft visual studio\\shared\\python37_64\\lib\\site-packages\\tensorflow\\python\\keras\\engine\\base_layer.py:976 __call__\n        self.name)\n    c:\\program files (x86)\\microsoft visual studio\\shared\\python37_64\\lib\\site-packages\\tensorflow\\python\\keras\\engine\\input_spec.py:180 assert_input_compatibility\n        str(x.shape.as_list()))\n\n    ValueError: Input 0 of layer Conv1_pad is incompatible with the layer: expected ndim=4, found ndim=2. Full shape received: [None, 1]\n",
     "output_type": "error",
     "traceback": [
      "\u001b[1;31m---------------------------------------------------------------------------\u001b[0m",
      "\u001b[1;31mValueError\u001b[0m                                Traceback (most recent call last)",
      "\u001b[1;32m<ipython-input-48-f56415acc5d4>\u001b[0m in \u001b[0;36m<module>\u001b[1;34m\u001b[0m\n\u001b[1;32m----> 1\u001b[1;33m \u001b[0mprediction\u001b[0m \u001b[1;33m=\u001b[0m \u001b[0mnew_model\u001b[0m\u001b[1;33m.\u001b[0m\u001b[0mpredict\u001b[0m\u001b[1;33m(\u001b[0m\u001b[1;33m[\u001b[0m\u001b[1;34m'circle2.png'\u001b[0m\u001b[1;33m]\u001b[0m\u001b[1;33m)\u001b[0m\u001b[1;33m\u001b[0m\u001b[1;33m\u001b[0m\u001b[0m\n\u001b[0m\u001b[0;32m      2\u001b[0m \u001b[0mprint\u001b[0m\u001b[1;33m(\u001b[0m\u001b[0mprediction\u001b[0m\u001b[1;33m)\u001b[0m\u001b[1;33m\u001b[0m\u001b[1;33m\u001b[0m\u001b[0m\n",
      "\u001b[1;32mc:\\program files (x86)\\microsoft visual studio\\shared\\python37_64\\lib\\site-packages\\tensorflow\\python\\keras\\engine\\training.py\u001b[0m in \u001b[0;36m_method_wrapper\u001b[1;34m(self, *args, **kwargs)\u001b[0m\n\u001b[0;32m    128\u001b[0m       raise ValueError('{} is not supported in multi-worker mode.'.format(\n\u001b[0;32m    129\u001b[0m           method.__name__))\n\u001b[1;32m--> 130\u001b[1;33m     \u001b[1;32mreturn\u001b[0m \u001b[0mmethod\u001b[0m\u001b[1;33m(\u001b[0m\u001b[0mself\u001b[0m\u001b[1;33m,\u001b[0m \u001b[1;33m*\u001b[0m\u001b[0margs\u001b[0m\u001b[1;33m,\u001b[0m \u001b[1;33m**\u001b[0m\u001b[0mkwargs\u001b[0m\u001b[1;33m)\u001b[0m\u001b[1;33m\u001b[0m\u001b[1;33m\u001b[0m\u001b[0m\n\u001b[0m\u001b[0;32m    131\u001b[0m \u001b[1;33m\u001b[0m\u001b[0m\n\u001b[0;32m    132\u001b[0m   return tf_decorator.make_decorator(\n",
      "\u001b[1;32mc:\\program files (x86)\\microsoft visual studio\\shared\\python37_64\\lib\\site-packages\\tensorflow\\python\\keras\\engine\\training.py\u001b[0m in \u001b[0;36mpredict\u001b[1;34m(self, x, batch_size, verbose, steps, callbacks, max_queue_size, workers, use_multiprocessing)\u001b[0m\n\u001b[0;32m   1597\u001b[0m           \u001b[1;32mfor\u001b[0m \u001b[0mstep\u001b[0m \u001b[1;32min\u001b[0m \u001b[0mdata_handler\u001b[0m\u001b[1;33m.\u001b[0m\u001b[0msteps\u001b[0m\u001b[1;33m(\u001b[0m\u001b[1;33m)\u001b[0m\u001b[1;33m:\u001b[0m\u001b[1;33m\u001b[0m\u001b[1;33m\u001b[0m\u001b[0m\n\u001b[0;32m   1598\u001b[0m             \u001b[0mcallbacks\u001b[0m\u001b[1;33m.\u001b[0m\u001b[0mon_predict_batch_begin\u001b[0m\u001b[1;33m(\u001b[0m\u001b[0mstep\u001b[0m\u001b[1;33m)\u001b[0m\u001b[1;33m\u001b[0m\u001b[1;33m\u001b[0m\u001b[0m\n\u001b[1;32m-> 1599\u001b[1;33m             \u001b[0mtmp_batch_outputs\u001b[0m \u001b[1;33m=\u001b[0m \u001b[0mpredict_function\u001b[0m\u001b[1;33m(\u001b[0m\u001b[0miterator\u001b[0m\u001b[1;33m)\u001b[0m\u001b[1;33m\u001b[0m\u001b[1;33m\u001b[0m\u001b[0m\n\u001b[0m\u001b[0;32m   1600\u001b[0m             \u001b[1;32mif\u001b[0m \u001b[0mdata_handler\u001b[0m\u001b[1;33m.\u001b[0m\u001b[0mshould_sync\u001b[0m\u001b[1;33m:\u001b[0m\u001b[1;33m\u001b[0m\u001b[1;33m\u001b[0m\u001b[0m\n\u001b[0;32m   1601\u001b[0m               \u001b[0mcontext\u001b[0m\u001b[1;33m.\u001b[0m\u001b[0masync_wait\u001b[0m\u001b[1;33m(\u001b[0m\u001b[1;33m)\u001b[0m\u001b[1;33m\u001b[0m\u001b[1;33m\u001b[0m\u001b[0m\n",
      "\u001b[1;32mc:\\program files (x86)\\microsoft visual studio\\shared\\python37_64\\lib\\site-packages\\tensorflow\\python\\eager\\def_function.py\u001b[0m in \u001b[0;36m__call__\u001b[1;34m(self, *args, **kwds)\u001b[0m\n\u001b[0;32m    778\u001b[0m       \u001b[1;32melse\u001b[0m\u001b[1;33m:\u001b[0m\u001b[1;33m\u001b[0m\u001b[1;33m\u001b[0m\u001b[0m\n\u001b[0;32m    779\u001b[0m         \u001b[0mcompiler\u001b[0m \u001b[1;33m=\u001b[0m \u001b[1;34m\"nonXla\"\u001b[0m\u001b[1;33m\u001b[0m\u001b[1;33m\u001b[0m\u001b[0m\n\u001b[1;32m--> 780\u001b[1;33m         \u001b[0mresult\u001b[0m \u001b[1;33m=\u001b[0m \u001b[0mself\u001b[0m\u001b[1;33m.\u001b[0m\u001b[0m_call\u001b[0m\u001b[1;33m(\u001b[0m\u001b[1;33m*\u001b[0m\u001b[0margs\u001b[0m\u001b[1;33m,\u001b[0m \u001b[1;33m**\u001b[0m\u001b[0mkwds\u001b[0m\u001b[1;33m)\u001b[0m\u001b[1;33m\u001b[0m\u001b[1;33m\u001b[0m\u001b[0m\n\u001b[0m\u001b[0;32m    781\u001b[0m \u001b[1;33m\u001b[0m\u001b[0m\n\u001b[0;32m    782\u001b[0m       \u001b[0mnew_tracing_count\u001b[0m \u001b[1;33m=\u001b[0m \u001b[0mself\u001b[0m\u001b[1;33m.\u001b[0m\u001b[0m_get_tracing_count\u001b[0m\u001b[1;33m(\u001b[0m\u001b[1;33m)\u001b[0m\u001b[1;33m\u001b[0m\u001b[1;33m\u001b[0m\u001b[0m\n",
      "\u001b[1;32mc:\\program files (x86)\\microsoft visual studio\\shared\\python37_64\\lib\\site-packages\\tensorflow\\python\\eager\\def_function.py\u001b[0m in \u001b[0;36m_call\u001b[1;34m(self, *args, **kwds)\u001b[0m\n\u001b[0;32m    821\u001b[0m       \u001b[1;31m# This is the first call of __call__, so we have to initialize.\u001b[0m\u001b[1;33m\u001b[0m\u001b[1;33m\u001b[0m\u001b[1;33m\u001b[0m\u001b[0m\n\u001b[0;32m    822\u001b[0m       \u001b[0minitializers\u001b[0m \u001b[1;33m=\u001b[0m \u001b[1;33m[\u001b[0m\u001b[1;33m]\u001b[0m\u001b[1;33m\u001b[0m\u001b[1;33m\u001b[0m\u001b[0m\n\u001b[1;32m--> 823\u001b[1;33m       \u001b[0mself\u001b[0m\u001b[1;33m.\u001b[0m\u001b[0m_initialize\u001b[0m\u001b[1;33m(\u001b[0m\u001b[0margs\u001b[0m\u001b[1;33m,\u001b[0m \u001b[0mkwds\u001b[0m\u001b[1;33m,\u001b[0m \u001b[0madd_initializers_to\u001b[0m\u001b[1;33m=\u001b[0m\u001b[0minitializers\u001b[0m\u001b[1;33m)\u001b[0m\u001b[1;33m\u001b[0m\u001b[1;33m\u001b[0m\u001b[0m\n\u001b[0m\u001b[0;32m    824\u001b[0m     \u001b[1;32mfinally\u001b[0m\u001b[1;33m:\u001b[0m\u001b[1;33m\u001b[0m\u001b[1;33m\u001b[0m\u001b[0m\n\u001b[0;32m    825\u001b[0m       \u001b[1;31m# At this point we know that the initialization is complete (or less\u001b[0m\u001b[1;33m\u001b[0m\u001b[1;33m\u001b[0m\u001b[1;33m\u001b[0m\u001b[0m\n",
      "\u001b[1;32mc:\\program files (x86)\\microsoft visual studio\\shared\\python37_64\\lib\\site-packages\\tensorflow\\python\\eager\\def_function.py\u001b[0m in \u001b[0;36m_initialize\u001b[1;34m(self, args, kwds, add_initializers_to)\u001b[0m\n\u001b[0;32m    695\u001b[0m     self._concrete_stateful_fn = (\n\u001b[0;32m    696\u001b[0m         self._stateful_fn._get_concrete_function_internal_garbage_collected(  # pylint: disable=protected-access\n\u001b[1;32m--> 697\u001b[1;33m             *args, **kwds))\n\u001b[0m\u001b[0;32m    698\u001b[0m \u001b[1;33m\u001b[0m\u001b[0m\n\u001b[0;32m    699\u001b[0m     \u001b[1;32mdef\u001b[0m \u001b[0minvalid_creator_scope\u001b[0m\u001b[1;33m(\u001b[0m\u001b[1;33m*\u001b[0m\u001b[0munused_args\u001b[0m\u001b[1;33m,\u001b[0m \u001b[1;33m**\u001b[0m\u001b[0munused_kwds\u001b[0m\u001b[1;33m)\u001b[0m\u001b[1;33m:\u001b[0m\u001b[1;33m\u001b[0m\u001b[1;33m\u001b[0m\u001b[0m\n",
      "\u001b[1;32mc:\\program files (x86)\\microsoft visual studio\\shared\\python37_64\\lib\\site-packages\\tensorflow\\python\\eager\\function.py\u001b[0m in \u001b[0;36m_get_concrete_function_internal_garbage_collected\u001b[1;34m(self, *args, **kwargs)\u001b[0m\n\u001b[0;32m   2853\u001b[0m       \u001b[0margs\u001b[0m\u001b[1;33m,\u001b[0m \u001b[0mkwargs\u001b[0m \u001b[1;33m=\u001b[0m \u001b[1;32mNone\u001b[0m\u001b[1;33m,\u001b[0m \u001b[1;32mNone\u001b[0m\u001b[1;33m\u001b[0m\u001b[1;33m\u001b[0m\u001b[0m\n\u001b[0;32m   2854\u001b[0m     \u001b[1;32mwith\u001b[0m \u001b[0mself\u001b[0m\u001b[1;33m.\u001b[0m\u001b[0m_lock\u001b[0m\u001b[1;33m:\u001b[0m\u001b[1;33m\u001b[0m\u001b[1;33m\u001b[0m\u001b[0m\n\u001b[1;32m-> 2855\u001b[1;33m       \u001b[0mgraph_function\u001b[0m\u001b[1;33m,\u001b[0m \u001b[0m_\u001b[0m\u001b[1;33m,\u001b[0m \u001b[0m_\u001b[0m \u001b[1;33m=\u001b[0m \u001b[0mself\u001b[0m\u001b[1;33m.\u001b[0m\u001b[0m_maybe_define_function\u001b[0m\u001b[1;33m(\u001b[0m\u001b[0margs\u001b[0m\u001b[1;33m,\u001b[0m \u001b[0mkwargs\u001b[0m\u001b[1;33m)\u001b[0m\u001b[1;33m\u001b[0m\u001b[1;33m\u001b[0m\u001b[0m\n\u001b[0m\u001b[0;32m   2856\u001b[0m     \u001b[1;32mreturn\u001b[0m \u001b[0mgraph_function\u001b[0m\u001b[1;33m\u001b[0m\u001b[1;33m\u001b[0m\u001b[0m\n\u001b[0;32m   2857\u001b[0m \u001b[1;33m\u001b[0m\u001b[0m\n",
      "\u001b[1;32mc:\\program files (x86)\\microsoft visual studio\\shared\\python37_64\\lib\\site-packages\\tensorflow\\python\\eager\\function.py\u001b[0m in \u001b[0;36m_maybe_define_function\u001b[1;34m(self, args, kwargs)\u001b[0m\n\u001b[0;32m   3211\u001b[0m \u001b[1;33m\u001b[0m\u001b[0m\n\u001b[0;32m   3212\u001b[0m       \u001b[0mself\u001b[0m\u001b[1;33m.\u001b[0m\u001b[0m_function_cache\u001b[0m\u001b[1;33m.\u001b[0m\u001b[0mmissed\u001b[0m\u001b[1;33m.\u001b[0m\u001b[0madd\u001b[0m\u001b[1;33m(\u001b[0m\u001b[0mcall_context_key\u001b[0m\u001b[1;33m)\u001b[0m\u001b[1;33m\u001b[0m\u001b[1;33m\u001b[0m\u001b[0m\n\u001b[1;32m-> 3213\u001b[1;33m       \u001b[0mgraph_function\u001b[0m \u001b[1;33m=\u001b[0m \u001b[0mself\u001b[0m\u001b[1;33m.\u001b[0m\u001b[0m_create_graph_function\u001b[0m\u001b[1;33m(\u001b[0m\u001b[0margs\u001b[0m\u001b[1;33m,\u001b[0m \u001b[0mkwargs\u001b[0m\u001b[1;33m)\u001b[0m\u001b[1;33m\u001b[0m\u001b[1;33m\u001b[0m\u001b[0m\n\u001b[0m\u001b[0;32m   3214\u001b[0m       \u001b[0mself\u001b[0m\u001b[1;33m.\u001b[0m\u001b[0m_function_cache\u001b[0m\u001b[1;33m.\u001b[0m\u001b[0mprimary\u001b[0m\u001b[1;33m[\u001b[0m\u001b[0mcache_key\u001b[0m\u001b[1;33m]\u001b[0m \u001b[1;33m=\u001b[0m \u001b[0mgraph_function\u001b[0m\u001b[1;33m\u001b[0m\u001b[1;33m\u001b[0m\u001b[0m\n\u001b[0;32m   3215\u001b[0m       \u001b[1;32mreturn\u001b[0m \u001b[0mgraph_function\u001b[0m\u001b[1;33m,\u001b[0m \u001b[0margs\u001b[0m\u001b[1;33m,\u001b[0m \u001b[0mkwargs\u001b[0m\u001b[1;33m\u001b[0m\u001b[1;33m\u001b[0m\u001b[0m\n",
      "\u001b[1;32mc:\\program files (x86)\\microsoft visual studio\\shared\\python37_64\\lib\\site-packages\\tensorflow\\python\\eager\\function.py\u001b[0m in \u001b[0;36m_create_graph_function\u001b[1;34m(self, args, kwargs, override_flat_arg_shapes)\u001b[0m\n\u001b[0;32m   3073\u001b[0m             \u001b[0marg_names\u001b[0m\u001b[1;33m=\u001b[0m\u001b[0marg_names\u001b[0m\u001b[1;33m,\u001b[0m\u001b[1;33m\u001b[0m\u001b[1;33m\u001b[0m\u001b[0m\n\u001b[0;32m   3074\u001b[0m             \u001b[0moverride_flat_arg_shapes\u001b[0m\u001b[1;33m=\u001b[0m\u001b[0moverride_flat_arg_shapes\u001b[0m\u001b[1;33m,\u001b[0m\u001b[1;33m\u001b[0m\u001b[1;33m\u001b[0m\u001b[0m\n\u001b[1;32m-> 3075\u001b[1;33m             capture_by_value=self._capture_by_value),\n\u001b[0m\u001b[0;32m   3076\u001b[0m         \u001b[0mself\u001b[0m\u001b[1;33m.\u001b[0m\u001b[0m_function_attributes\u001b[0m\u001b[1;33m,\u001b[0m\u001b[1;33m\u001b[0m\u001b[1;33m\u001b[0m\u001b[0m\n\u001b[0;32m   3077\u001b[0m         \u001b[0mfunction_spec\u001b[0m\u001b[1;33m=\u001b[0m\u001b[0mself\u001b[0m\u001b[1;33m.\u001b[0m\u001b[0mfunction_spec\u001b[0m\u001b[1;33m,\u001b[0m\u001b[1;33m\u001b[0m\u001b[1;33m\u001b[0m\u001b[0m\n",
      "\u001b[1;32mc:\\program files (x86)\\microsoft visual studio\\shared\\python37_64\\lib\\site-packages\\tensorflow\\python\\framework\\func_graph.py\u001b[0m in \u001b[0;36mfunc_graph_from_py_func\u001b[1;34m(name, python_func, args, kwargs, signature, func_graph, autograph, autograph_options, add_control_dependencies, arg_names, op_return_value, collections, capture_by_value, override_flat_arg_shapes)\u001b[0m\n\u001b[0;32m    984\u001b[0m         \u001b[0m_\u001b[0m\u001b[1;33m,\u001b[0m \u001b[0moriginal_func\u001b[0m \u001b[1;33m=\u001b[0m \u001b[0mtf_decorator\u001b[0m\u001b[1;33m.\u001b[0m\u001b[0munwrap\u001b[0m\u001b[1;33m(\u001b[0m\u001b[0mpython_func\u001b[0m\u001b[1;33m)\u001b[0m\u001b[1;33m\u001b[0m\u001b[1;33m\u001b[0m\u001b[0m\n\u001b[0;32m    985\u001b[0m \u001b[1;33m\u001b[0m\u001b[0m\n\u001b[1;32m--> 986\u001b[1;33m       \u001b[0mfunc_outputs\u001b[0m \u001b[1;33m=\u001b[0m \u001b[0mpython_func\u001b[0m\u001b[1;33m(\u001b[0m\u001b[1;33m*\u001b[0m\u001b[0mfunc_args\u001b[0m\u001b[1;33m,\u001b[0m \u001b[1;33m**\u001b[0m\u001b[0mfunc_kwargs\u001b[0m\u001b[1;33m)\u001b[0m\u001b[1;33m\u001b[0m\u001b[1;33m\u001b[0m\u001b[0m\n\u001b[0m\u001b[0;32m    987\u001b[0m \u001b[1;33m\u001b[0m\u001b[0m\n\u001b[0;32m    988\u001b[0m       \u001b[1;31m# invariant: `func_outputs` contains only Tensors, CompositeTensors,\u001b[0m\u001b[1;33m\u001b[0m\u001b[1;33m\u001b[0m\u001b[1;33m\u001b[0m\u001b[0m\n",
      "\u001b[1;32mc:\\program files (x86)\\microsoft visual studio\\shared\\python37_64\\lib\\site-packages\\tensorflow\\python\\eager\\def_function.py\u001b[0m in \u001b[0;36mwrapped_fn\u001b[1;34m(*args, **kwds)\u001b[0m\n\u001b[0;32m    598\u001b[0m         \u001b[1;31m# __wrapped__ allows AutoGraph to swap in a converted function. We give\u001b[0m\u001b[1;33m\u001b[0m\u001b[1;33m\u001b[0m\u001b[1;33m\u001b[0m\u001b[0m\n\u001b[0;32m    599\u001b[0m         \u001b[1;31m# the function a weak reference to itself to avoid a reference cycle.\u001b[0m\u001b[1;33m\u001b[0m\u001b[1;33m\u001b[0m\u001b[1;33m\u001b[0m\u001b[0m\n\u001b[1;32m--> 600\u001b[1;33m         \u001b[1;32mreturn\u001b[0m \u001b[0mweak_wrapped_fn\u001b[0m\u001b[1;33m(\u001b[0m\u001b[1;33m)\u001b[0m\u001b[1;33m.\u001b[0m\u001b[0m__wrapped__\u001b[0m\u001b[1;33m(\u001b[0m\u001b[1;33m*\u001b[0m\u001b[0margs\u001b[0m\u001b[1;33m,\u001b[0m \u001b[1;33m**\u001b[0m\u001b[0mkwds\u001b[0m\u001b[1;33m)\u001b[0m\u001b[1;33m\u001b[0m\u001b[1;33m\u001b[0m\u001b[0m\n\u001b[0m\u001b[0;32m    601\u001b[0m     \u001b[0mweak_wrapped_fn\u001b[0m \u001b[1;33m=\u001b[0m \u001b[0mweakref\u001b[0m\u001b[1;33m.\u001b[0m\u001b[0mref\u001b[0m\u001b[1;33m(\u001b[0m\u001b[0mwrapped_fn\u001b[0m\u001b[1;33m)\u001b[0m\u001b[1;33m\u001b[0m\u001b[1;33m\u001b[0m\u001b[0m\n\u001b[0;32m    602\u001b[0m \u001b[1;33m\u001b[0m\u001b[0m\n",
      "\u001b[1;32mc:\\program files (x86)\\microsoft visual studio\\shared\\python37_64\\lib\\site-packages\\tensorflow\\python\\framework\\func_graph.py\u001b[0m in \u001b[0;36mwrapper\u001b[1;34m(*args, **kwargs)\u001b[0m\n\u001b[0;32m    971\u001b[0m           \u001b[1;32mexcept\u001b[0m \u001b[0mException\u001b[0m \u001b[1;32mas\u001b[0m \u001b[0me\u001b[0m\u001b[1;33m:\u001b[0m  \u001b[1;31m# pylint:disable=broad-except\u001b[0m\u001b[1;33m\u001b[0m\u001b[1;33m\u001b[0m\u001b[0m\n\u001b[0;32m    972\u001b[0m             \u001b[1;32mif\u001b[0m \u001b[0mhasattr\u001b[0m\u001b[1;33m(\u001b[0m\u001b[0me\u001b[0m\u001b[1;33m,\u001b[0m \u001b[1;34m\"ag_error_metadata\"\u001b[0m\u001b[1;33m)\u001b[0m\u001b[1;33m:\u001b[0m\u001b[1;33m\u001b[0m\u001b[1;33m\u001b[0m\u001b[0m\n\u001b[1;32m--> 973\u001b[1;33m               \u001b[1;32mraise\u001b[0m \u001b[0me\u001b[0m\u001b[1;33m.\u001b[0m\u001b[0mag_error_metadata\u001b[0m\u001b[1;33m.\u001b[0m\u001b[0mto_exception\u001b[0m\u001b[1;33m(\u001b[0m\u001b[0me\u001b[0m\u001b[1;33m)\u001b[0m\u001b[1;33m\u001b[0m\u001b[1;33m\u001b[0m\u001b[0m\n\u001b[0m\u001b[0;32m    974\u001b[0m             \u001b[1;32melse\u001b[0m\u001b[1;33m:\u001b[0m\u001b[1;33m\u001b[0m\u001b[1;33m\u001b[0m\u001b[0m\n\u001b[0;32m    975\u001b[0m               \u001b[1;32mraise\u001b[0m\u001b[1;33m\u001b[0m\u001b[1;33m\u001b[0m\u001b[0m\n",
      "\u001b[1;31mValueError\u001b[0m: in user code:\n\n    c:\\program files (x86)\\microsoft visual studio\\shared\\python37_64\\lib\\site-packages\\tensorflow\\python\\keras\\engine\\training.py:1462 predict_function  *\n        return step_function(self, iterator)\n    c:\\program files (x86)\\microsoft visual studio\\shared\\python37_64\\lib\\site-packages\\tensorflow\\python\\keras\\engine\\training.py:1452 step_function  **\n        outputs = model.distribute_strategy.run(run_step, args=(data,))\n    c:\\program files (x86)\\microsoft visual studio\\shared\\python37_64\\lib\\site-packages\\tensorflow\\python\\distribute\\distribute_lib.py:1211 run\n        return self._extended.call_for_each_replica(fn, args=args, kwargs=kwargs)\n    c:\\program files (x86)\\microsoft visual studio\\shared\\python37_64\\lib\\site-packages\\tensorflow\\python\\distribute\\distribute_lib.py:2585 call_for_each_replica\n        return self._call_for_each_replica(fn, args, kwargs)\n    c:\\program files (x86)\\microsoft visual studio\\shared\\python37_64\\lib\\site-packages\\tensorflow\\python\\distribute\\distribute_lib.py:2945 _call_for_each_replica\n        return fn(*args, **kwargs)\n    c:\\program files (x86)\\microsoft visual studio\\shared\\python37_64\\lib\\site-packages\\tensorflow\\python\\keras\\engine\\training.py:1445 run_step  **\n        outputs = model.predict_step(data)\n    c:\\program files (x86)\\microsoft visual studio\\shared\\python37_64\\lib\\site-packages\\tensorflow\\python\\keras\\engine\\training.py:1418 predict_step\n        return self(x, training=False)\n    c:\\program files (x86)\\microsoft visual studio\\shared\\python37_64\\lib\\site-packages\\tensorflow\\python\\keras\\engine\\base_layer.py:985 __call__\n        outputs = call_fn(inputs, *args, **kwargs)\n    c:\\program files (x86)\\microsoft visual studio\\shared\\python37_64\\lib\\site-packages\\tensorflow\\python\\keras\\engine\\sequential.py:372 call\n        return super(Sequential, self).call(inputs, training=training, mask=mask)\n    c:\\program files (x86)\\microsoft visual studio\\shared\\python37_64\\lib\\site-packages\\tensorflow\\python\\keras\\engine\\functional.py:386 call\n        inputs, training=training, mask=mask)\n    c:\\program files (x86)\\microsoft visual studio\\shared\\python37_64\\lib\\site-packages\\tensorflow\\python\\keras\\engine\\functional.py:508 _run_internal_graph\n        outputs = node.layer(*args, **kwargs)\n    c:\\program files (x86)\\microsoft visual studio\\shared\\python37_64\\lib\\site-packages\\tensorflow\\python\\keras\\engine\\base_layer.py:985 __call__\n        outputs = call_fn(inputs, *args, **kwargs)\n    c:\\program files (x86)\\microsoft visual studio\\shared\\python37_64\\lib\\site-packages\\tensorflow\\python\\keras\\engine\\functional.py:386 call\n        inputs, training=training, mask=mask)\n    c:\\program files (x86)\\microsoft visual studio\\shared\\python37_64\\lib\\site-packages\\tensorflow\\python\\keras\\engine\\functional.py:508 _run_internal_graph\n        outputs = node.layer(*args, **kwargs)\n    c:\\program files (x86)\\microsoft visual studio\\shared\\python37_64\\lib\\site-packages\\tensorflow\\python\\keras\\engine\\base_layer.py:976 __call__\n        self.name)\n    c:\\program files (x86)\\microsoft visual studio\\shared\\python37_64\\lib\\site-packages\\tensorflow\\python\\keras\\engine\\input_spec.py:180 assert_input_compatibility\n        str(x.shape.as_list()))\n\n    ValueError: Input 0 of layer Conv1_pad is incompatible with the layer: expected ndim=4, found ndim=2. Full shape received: [None, 1]\n"
     ]
    }
   ],
   "source": [
    "prediction = new_model.predict(['circle2.png'])\n",
    "print(prediction)"
   ]
  },
  {
   "cell_type": "markdown",
   "metadata": {
    "id": "YikBtWO9tb7Y"
   },
   "source": [
    "#Convert to TFLite"
   ]
  },
  {
   "cell_type": "code",
   "execution_count": null,
   "metadata": {
    "colab": {
     "base_uri": "https://localhost:8080/",
     "height": 85
    },
    "id": "p3HFYvrNuGYR",
    "outputId": "649d432b-18f1-4ada-fa90-02fee8c82149"
   },
   "outputs": [],
   "source": [
    "#!mkdir \"tflite_models\"\n",
    "TFLITE_MODEL = \"tflite_models/shapes.tflite\"\n",
    "TFLITE_QUANT_MODEL = \"tflite_models/shapes_quant.tflite\"\n",
    "# Get the concrete function from the Keras model.\n",
    "run_model = tf.function(lambda x : shapes_model(x))\n",
    "\n",
    "# Save the concrete function.\n",
    "concrete_func = run_model.get_concrete_function(\n",
    "    tf.TensorSpec(model.inputs[0].shape, model.inputs[0].dtype)\n",
    ")\n",
    "\n",
    "# Convert the model\n",
    "converter = tf.lite.TFLiteConverter.from_concrete_functions([concrete_func])\n",
    "converted_tflite_model = converter.convert()\n",
    "open(TFLITE_MODEL, \"wb\").write(converted_tflite_model)\n",
    "\n",
    "# Convert the model to quantized version with post-training quantization\n",
    "converter = tf.lite.TFLiteConverter.from_concrete_functions([concrete_func])\n",
    "converter.optimizations = [tf.lite.Optimize.OPTIMIZE_FOR_SIZE]\n",
    "tflite_quant_model = converter.convert()\n",
    "open(TFLITE_QUANT_MODEL, \"wb\").write(tflite_quant_model)\n",
    "\n",
    "print(\"TFLite models and their sizes:\")\n",
    "!dir \"tflite_models\" -lh"
   ]
  },
  {
   "cell_type": "markdown",
   "metadata": {
    "id": "ZSWq8OBwv5uz"
   },
   "source": [
    "#Save TFLite model"
   ]
  },
  {
   "cell_type": "code",
   "execution_count": null,
   "metadata": {
    "colab": {
     "base_uri": "https://localhost:8080/",
     "height": 34
    },
    "id": "lW5cqrzFtbSI",
    "outputId": "13cdf3b6-a67a-45b3-de00-cf49fe8efdf3"
   },
   "outputs": [],
   "source": [
    "#save model to Google drive\n",
    "#from google.colab import drive\n",
    "#drive.mount('/content/drive')\n",
    "#gdrive_dataset_path = \"/content/drive/My Drive/Colab Notebooks/dataset\""
   ]
  },
  {
   "cell_type": "code",
   "execution_count": null,
   "metadata": {
    "id": "gYKNE-pJwHzO"
   },
   "outputs": [],
   "source": [
    "!copy -r /content/saved_models \"C:\\Users\\Tommy\\Documents\\jupyter\\test1\\tflite_models\\\""
   ]
  },
  {
   "cell_type": "code",
   "execution_count": null,
   "metadata": {
    "id": "x0m-MHlpwPzM"
   },
   "outputs": [],
   "source": [
    "!copy -r /content/tflite_models \"C:\\Users\\Tommy\\Documents\\jupyter\\test1\\tflite_models\\\""
   ]
  },
  {
   "cell_type": "code",
   "execution_count": null,
   "metadata": {
    "colab": {
     "base_uri": "https://localhost:8080/",
     "height": 163
    },
    "id": "BxFi9inlwVk_",
    "outputId": "ac5ed68e-c7b4-40e4-8160-c37dc1cd4862"
   },
   "outputs": [],
   "source": [
    "files.download('labels.txt')"
   ]
  },
  {
   "cell_type": "code",
   "execution_count": null,
   "metadata": {
    "scrolled": true
   },
   "outputs": [],
   "source": []
  },
  {
   "cell_type": "code",
   "execution_count": null,
   "metadata": {},
   "outputs": [],
   "source": []
  }
 ],
 "metadata": {
  "accelerator": "GPU",
  "colab": {
   "name": "homework2.ipynb",
   "provenance": [],
   "toc_visible": true
  },
  "kernelspec": {
   "display_name": "test1",
   "language": "python",
   "name": "test1"
  },
  "language_info": {
   "codemirror_mode": {
    "name": "ipython",
    "version": 3
   },
   "file_extension": ".py",
   "mimetype": "text/x-python",
   "name": "python",
   "nbconvert_exporter": "python",
   "pygments_lexer": "ipython3",
   "version": "3.7.5"
  }
 },
 "nbformat": 4,
 "nbformat_minor": 1
}
